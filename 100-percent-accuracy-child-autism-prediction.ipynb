{
 "cells": [
  {
   "cell_type": "code",
   "execution_count": 1,
   "id": "7639b86a",
   "metadata": {
    "_cell_guid": "b1076dfc-b9ad-4769-8c92-a6c4dae69d19",
    "_uuid": "8f2839f25d086af736a60e9eeb907d3b93b6e0e5",
    "execution": {
     "iopub.execute_input": "2025-09-25T11:49:46.096597Z",
     "iopub.status.busy": "2025-09-25T11:49:46.096199Z",
     "iopub.status.idle": "2025-09-25T11:49:48.217695Z",
     "shell.execute_reply": "2025-09-25T11:49:48.216611Z"
    },
    "papermill": {
     "duration": 2.139086,
     "end_time": "2025-09-25T11:49:48.219328",
     "exception": false,
     "start_time": "2025-09-25T11:49:46.080242",
     "status": "completed"
    },
    "tags": []
   },
   "outputs": [
    {
     "name": "stdout",
     "output_type": "stream",
     "text": [
      "/kaggle/input/autism-screening-for-toddlers/Toddler Autism dataset July 2018.csv\n",
      "/kaggle/input/autism-screening-for-toddlers/Autism_Screening_Data_Combined.csv\n",
      "/kaggle/input/autism-screening-for-toddlers/Toddler data description.docx\n"
     ]
    }
   ],
   "source": [
    "# This Python 3 environment comes with many helpful analytics libraries installed\n",
    "# It is defined by the kaggle/python Docker image: https://github.com/kaggle/docker-python\n",
    "# For example, here's several helpful packages to load\n",
    "\n",
    "import numpy as np # linear algebra\n",
    "import pandas as pd # data processing, CSV file I/O (e.g. pd.read_csv)\n",
    "\n",
    "# Input data files are available in the read-only \"../input/\" directory\n",
    "# For example, running this (by clicking run or pressing Shift+Enter) will list all files under the input directory\n",
    "\n",
    "import os\n",
    "for dirname, _, filenames in os.walk('/kaggle/input'):\n",
    "    for filename in filenames:\n",
    "        print(os.path.join(dirname, filename))\n",
    "\n",
    "# You can write up to 20GB to the current directory (/kaggle/working/) that gets preserved as output when you create a version using \"Save & Run All\" \n",
    "# You can also write temporary files to /kaggle/temp/, but they won't be saved outside of the current session"
   ]
  },
  {
   "cell_type": "code",
   "execution_count": 2,
   "id": "0b98608b",
   "metadata": {
    "execution": {
     "iopub.execute_input": "2025-09-25T11:49:48.249569Z",
     "iopub.status.busy": "2025-09-25T11:49:48.249113Z",
     "iopub.status.idle": "2025-09-25T11:49:48.254284Z",
     "shell.execute_reply": "2025-09-25T11:49:48.253278Z"
    },
    "papermill": {
     "duration": 0.021789,
     "end_time": "2025-09-25T11:49:48.255858",
     "exception": false,
     "start_time": "2025-09-25T11:49:48.234069",
     "status": "completed"
    },
    "tags": []
   },
   "outputs": [],
   "source": [
    "# Table 1: Details of variables mapping to the Q-Chat-10\n",
    "# screening methods.\n",
    "# Variable in Dataset\tCorresponding\n",
    "# Q-chat-10-Toddler Features"
   ]
  },
  {
   "cell_type": "markdown",
   "id": "ec45fd74",
   "metadata": {
    "papermill": {
     "duration": 0.012523,
     "end_time": "2025-09-25T11:49:48.281407",
     "exception": false,
     "start_time": "2025-09-25T11:49:48.268884",
     "status": "completed"
    },
    "tags": []
   },
   "source": [
    "**Question that have been asked by the childs .**"
   ]
  },
  {
   "cell_type": "markdown",
   "id": "97fbe4c7",
   "metadata": {
    "papermill": {
     "duration": 0.01258,
     "end_time": "2025-09-25T11:49:48.306939",
     "exception": false,
     "start_time": "2025-09-25T11:49:48.294359",
     "status": "completed"
    },
    "tags": []
   },
   "source": [
    "\n",
    "A1\t Does your child look at you when you call his/her name?\n",
    "\n",
    "A2\tHow easy is it for you to get eye contact with your child? \n",
    "\n",
    "A3\tDoes your child point to indicate that s/he wants something? (e.g. a toy that is \n",
    "out of reach) \n",
    "                  \n",
    "A4\tDoes your child point to share interest with you? (e.g. poin9ng at an \n",
    "interes9ng sight) \n",
    "\n",
    "A5\tDoes your child pretend? (e.g. care for dolls, talk on a toy phone) \n",
    "\n",
    "A6\tDoes your child follow where you’re looking? \n",
    "\n",
    "A7\tIf you or someone else in the family is visibly upset, does your child show signs \n",
    "of wan9ng to comfort them? (e.g. stroking hair, hugging them)\n",
    "\n",
    "A8\tWould you describe your child’s first words as: \n",
    "\n",
    "A9\tDoes your child use simple gestures? (e.g. wave goodbye) \n",
    "\n",
    "A10\tDoes your child stare at nothing with no apparent purpose? \n",
    "\n"
   ]
  },
  {
   "cell_type": "markdown",
   "id": "db0345e4",
   "metadata": {
    "papermill": {
     "duration": 0.012422,
     "end_time": "2025-09-25T11:49:48.332255",
     "exception": false,
     "start_time": "2025-09-25T11:49:48.319833",
     "status": "completed"
    },
    "tags": []
   },
   "source": [
    "# Data Preprocessing"
   ]
  },
  {
   "cell_type": "code",
   "execution_count": 3,
   "id": "686fec16",
   "metadata": {
    "execution": {
     "iopub.execute_input": "2025-09-25T11:49:48.359936Z",
     "iopub.status.busy": "2025-09-25T11:49:48.359529Z",
     "iopub.status.idle": "2025-09-25T11:49:48.390858Z",
     "shell.execute_reply": "2025-09-25T11:49:48.389842Z"
    },
    "papermill": {
     "duration": 0.047346,
     "end_time": "2025-09-25T11:49:48.392624",
     "exception": false,
     "start_time": "2025-09-25T11:49:48.345278",
     "status": "completed"
    },
    "tags": []
   },
   "outputs": [],
   "source": [
    "v = pd.read_csv(\"/kaggle/input/autism-screening-for-toddlers/Toddler Autism dataset July 2018.csv\")"
   ]
  },
  {
   "cell_type": "code",
   "execution_count": 4,
   "id": "64d83448",
   "metadata": {
    "execution": {
     "iopub.execute_input": "2025-09-25T11:49:48.419753Z",
     "iopub.status.busy": "2025-09-25T11:49:48.419406Z",
     "iopub.status.idle": "2025-09-25T11:49:48.454320Z",
     "shell.execute_reply": "2025-09-25T11:49:48.453384Z"
    },
    "papermill": {
     "duration": 0.050721,
     "end_time": "2025-09-25T11:49:48.456467",
     "exception": false,
     "start_time": "2025-09-25T11:49:48.405746",
     "status": "completed"
    },
    "tags": []
   },
   "outputs": [
    {
     "data": {
      "text/html": [
       "<div>\n",
       "<style scoped>\n",
       "    .dataframe tbody tr th:only-of-type {\n",
       "        vertical-align: middle;\n",
       "    }\n",
       "\n",
       "    .dataframe tbody tr th {\n",
       "        vertical-align: top;\n",
       "    }\n",
       "\n",
       "    .dataframe thead th {\n",
       "        text-align: right;\n",
       "    }\n",
       "</style>\n",
       "<table border=\"1\" class=\"dataframe\">\n",
       "  <thead>\n",
       "    <tr style=\"text-align: right;\">\n",
       "      <th></th>\n",
       "      <th>Case_No</th>\n",
       "      <th>A1</th>\n",
       "      <th>A2</th>\n",
       "      <th>A3</th>\n",
       "      <th>A4</th>\n",
       "      <th>A5</th>\n",
       "      <th>A6</th>\n",
       "      <th>A7</th>\n",
       "      <th>A8</th>\n",
       "      <th>A9</th>\n",
       "      <th>A10</th>\n",
       "      <th>Age_Mons</th>\n",
       "      <th>Qchat-10-Score</th>\n",
       "      <th>Sex</th>\n",
       "      <th>Ethnicity</th>\n",
       "      <th>Jaundice</th>\n",
       "      <th>Family_mem_with_ASD</th>\n",
       "      <th>Who completed the test</th>\n",
       "      <th>Class/ASD Traits</th>\n",
       "    </tr>\n",
       "  </thead>\n",
       "  <tbody>\n",
       "    <tr>\n",
       "      <th>0</th>\n",
       "      <td>1</td>\n",
       "      <td>0</td>\n",
       "      <td>0</td>\n",
       "      <td>0</td>\n",
       "      <td>0</td>\n",
       "      <td>0</td>\n",
       "      <td>0</td>\n",
       "      <td>1</td>\n",
       "      <td>1</td>\n",
       "      <td>0</td>\n",
       "      <td>1</td>\n",
       "      <td>28</td>\n",
       "      <td>3</td>\n",
       "      <td>f</td>\n",
       "      <td>middle eastern</td>\n",
       "      <td>yes</td>\n",
       "      <td>no</td>\n",
       "      <td>family member</td>\n",
       "      <td>No</td>\n",
       "    </tr>\n",
       "    <tr>\n",
       "      <th>1</th>\n",
       "      <td>2</td>\n",
       "      <td>1</td>\n",
       "      <td>1</td>\n",
       "      <td>0</td>\n",
       "      <td>0</td>\n",
       "      <td>0</td>\n",
       "      <td>1</td>\n",
       "      <td>1</td>\n",
       "      <td>0</td>\n",
       "      <td>0</td>\n",
       "      <td>0</td>\n",
       "      <td>36</td>\n",
       "      <td>4</td>\n",
       "      <td>m</td>\n",
       "      <td>White European</td>\n",
       "      <td>yes</td>\n",
       "      <td>no</td>\n",
       "      <td>family member</td>\n",
       "      <td>Yes</td>\n",
       "    </tr>\n",
       "    <tr>\n",
       "      <th>2</th>\n",
       "      <td>3</td>\n",
       "      <td>1</td>\n",
       "      <td>0</td>\n",
       "      <td>0</td>\n",
       "      <td>0</td>\n",
       "      <td>0</td>\n",
       "      <td>0</td>\n",
       "      <td>1</td>\n",
       "      <td>1</td>\n",
       "      <td>0</td>\n",
       "      <td>1</td>\n",
       "      <td>36</td>\n",
       "      <td>4</td>\n",
       "      <td>m</td>\n",
       "      <td>middle eastern</td>\n",
       "      <td>yes</td>\n",
       "      <td>no</td>\n",
       "      <td>family member</td>\n",
       "      <td>Yes</td>\n",
       "    </tr>\n",
       "    <tr>\n",
       "      <th>3</th>\n",
       "      <td>4</td>\n",
       "      <td>1</td>\n",
       "      <td>1</td>\n",
       "      <td>1</td>\n",
       "      <td>1</td>\n",
       "      <td>1</td>\n",
       "      <td>1</td>\n",
       "      <td>1</td>\n",
       "      <td>1</td>\n",
       "      <td>1</td>\n",
       "      <td>1</td>\n",
       "      <td>24</td>\n",
       "      <td>10</td>\n",
       "      <td>m</td>\n",
       "      <td>Hispanic</td>\n",
       "      <td>no</td>\n",
       "      <td>no</td>\n",
       "      <td>family member</td>\n",
       "      <td>Yes</td>\n",
       "    </tr>\n",
       "    <tr>\n",
       "      <th>4</th>\n",
       "      <td>5</td>\n",
       "      <td>1</td>\n",
       "      <td>1</td>\n",
       "      <td>0</td>\n",
       "      <td>1</td>\n",
       "      <td>1</td>\n",
       "      <td>1</td>\n",
       "      <td>1</td>\n",
       "      <td>1</td>\n",
       "      <td>1</td>\n",
       "      <td>1</td>\n",
       "      <td>20</td>\n",
       "      <td>9</td>\n",
       "      <td>f</td>\n",
       "      <td>White European</td>\n",
       "      <td>no</td>\n",
       "      <td>yes</td>\n",
       "      <td>family member</td>\n",
       "      <td>Yes</td>\n",
       "    </tr>\n",
       "    <tr>\n",
       "      <th>5</th>\n",
       "      <td>6</td>\n",
       "      <td>1</td>\n",
       "      <td>1</td>\n",
       "      <td>0</td>\n",
       "      <td>0</td>\n",
       "      <td>1</td>\n",
       "      <td>1</td>\n",
       "      <td>1</td>\n",
       "      <td>1</td>\n",
       "      <td>1</td>\n",
       "      <td>1</td>\n",
       "      <td>21</td>\n",
       "      <td>8</td>\n",
       "      <td>m</td>\n",
       "      <td>black</td>\n",
       "      <td>no</td>\n",
       "      <td>no</td>\n",
       "      <td>family member</td>\n",
       "      <td>Yes</td>\n",
       "    </tr>\n",
       "    <tr>\n",
       "      <th>6</th>\n",
       "      <td>7</td>\n",
       "      <td>1</td>\n",
       "      <td>0</td>\n",
       "      <td>0</td>\n",
       "      <td>1</td>\n",
       "      <td>1</td>\n",
       "      <td>1</td>\n",
       "      <td>0</td>\n",
       "      <td>0</td>\n",
       "      <td>1</td>\n",
       "      <td>0</td>\n",
       "      <td>33</td>\n",
       "      <td>5</td>\n",
       "      <td>m</td>\n",
       "      <td>asian</td>\n",
       "      <td>yes</td>\n",
       "      <td>no</td>\n",
       "      <td>family member</td>\n",
       "      <td>Yes</td>\n",
       "    </tr>\n",
       "    <tr>\n",
       "      <th>7</th>\n",
       "      <td>8</td>\n",
       "      <td>0</td>\n",
       "      <td>1</td>\n",
       "      <td>0</td>\n",
       "      <td>0</td>\n",
       "      <td>1</td>\n",
       "      <td>0</td>\n",
       "      <td>1</td>\n",
       "      <td>1</td>\n",
       "      <td>1</td>\n",
       "      <td>1</td>\n",
       "      <td>33</td>\n",
       "      <td>6</td>\n",
       "      <td>m</td>\n",
       "      <td>asian</td>\n",
       "      <td>yes</td>\n",
       "      <td>no</td>\n",
       "      <td>family member</td>\n",
       "      <td>Yes</td>\n",
       "    </tr>\n",
       "    <tr>\n",
       "      <th>8</th>\n",
       "      <td>9</td>\n",
       "      <td>0</td>\n",
       "      <td>0</td>\n",
       "      <td>0</td>\n",
       "      <td>0</td>\n",
       "      <td>0</td>\n",
       "      <td>0</td>\n",
       "      <td>1</td>\n",
       "      <td>0</td>\n",
       "      <td>0</td>\n",
       "      <td>1</td>\n",
       "      <td>36</td>\n",
       "      <td>2</td>\n",
       "      <td>m</td>\n",
       "      <td>asian</td>\n",
       "      <td>no</td>\n",
       "      <td>no</td>\n",
       "      <td>family member</td>\n",
       "      <td>No</td>\n",
       "    </tr>\n",
       "    <tr>\n",
       "      <th>9</th>\n",
       "      <td>10</td>\n",
       "      <td>1</td>\n",
       "      <td>1</td>\n",
       "      <td>1</td>\n",
       "      <td>0</td>\n",
       "      <td>1</td>\n",
       "      <td>1</td>\n",
       "      <td>0</td>\n",
       "      <td>1</td>\n",
       "      <td>1</td>\n",
       "      <td>1</td>\n",
       "      <td>22</td>\n",
       "      <td>8</td>\n",
       "      <td>m</td>\n",
       "      <td>south asian</td>\n",
       "      <td>no</td>\n",
       "      <td>no</td>\n",
       "      <td>Health Care Professional</td>\n",
       "      <td>Yes</td>\n",
       "    </tr>\n",
       "    <tr>\n",
       "      <th>10</th>\n",
       "      <td>11</td>\n",
       "      <td>1</td>\n",
       "      <td>0</td>\n",
       "      <td>0</td>\n",
       "      <td>1</td>\n",
       "      <td>0</td>\n",
       "      <td>1</td>\n",
       "      <td>1</td>\n",
       "      <td>0</td>\n",
       "      <td>1</td>\n",
       "      <td>1</td>\n",
       "      <td>36</td>\n",
       "      <td>6</td>\n",
       "      <td>m</td>\n",
       "      <td>Hispanic</td>\n",
       "      <td>yes</td>\n",
       "      <td>yes</td>\n",
       "      <td>family member</td>\n",
       "      <td>Yes</td>\n",
       "    </tr>\n",
       "    <tr>\n",
       "      <th>11</th>\n",
       "      <td>12</td>\n",
       "      <td>1</td>\n",
       "      <td>1</td>\n",
       "      <td>1</td>\n",
       "      <td>1</td>\n",
       "      <td>0</td>\n",
       "      <td>1</td>\n",
       "      <td>1</td>\n",
       "      <td>1</td>\n",
       "      <td>0</td>\n",
       "      <td>1</td>\n",
       "      <td>17</td>\n",
       "      <td>8</td>\n",
       "      <td>m</td>\n",
       "      <td>middle eastern</td>\n",
       "      <td>yes</td>\n",
       "      <td>no</td>\n",
       "      <td>family member</td>\n",
       "      <td>Yes</td>\n",
       "    </tr>\n",
       "    <tr>\n",
       "      <th>12</th>\n",
       "      <td>13</td>\n",
       "      <td>0</td>\n",
       "      <td>0</td>\n",
       "      <td>0</td>\n",
       "      <td>0</td>\n",
       "      <td>0</td>\n",
       "      <td>0</td>\n",
       "      <td>0</td>\n",
       "      <td>0</td>\n",
       "      <td>0</td>\n",
       "      <td>0</td>\n",
       "      <td>25</td>\n",
       "      <td>0</td>\n",
       "      <td>f</td>\n",
       "      <td>middle eastern</td>\n",
       "      <td>yes</td>\n",
       "      <td>no</td>\n",
       "      <td>family member</td>\n",
       "      <td>No</td>\n",
       "    </tr>\n",
       "    <tr>\n",
       "      <th>13</th>\n",
       "      <td>14</td>\n",
       "      <td>1</td>\n",
       "      <td>1</td>\n",
       "      <td>1</td>\n",
       "      <td>1</td>\n",
       "      <td>0</td>\n",
       "      <td>0</td>\n",
       "      <td>1</td>\n",
       "      <td>0</td>\n",
       "      <td>1</td>\n",
       "      <td>1</td>\n",
       "      <td>15</td>\n",
       "      <td>7</td>\n",
       "      <td>f</td>\n",
       "      <td>middle eastern</td>\n",
       "      <td>yes</td>\n",
       "      <td>no</td>\n",
       "      <td>family member</td>\n",
       "      <td>Yes</td>\n",
       "    </tr>\n",
       "    <tr>\n",
       "      <th>14</th>\n",
       "      <td>15</td>\n",
       "      <td>0</td>\n",
       "      <td>0</td>\n",
       "      <td>0</td>\n",
       "      <td>0</td>\n",
       "      <td>0</td>\n",
       "      <td>0</td>\n",
       "      <td>0</td>\n",
       "      <td>0</td>\n",
       "      <td>0</td>\n",
       "      <td>0</td>\n",
       "      <td>18</td>\n",
       "      <td>0</td>\n",
       "      <td>m</td>\n",
       "      <td>middle eastern</td>\n",
       "      <td>no</td>\n",
       "      <td>no</td>\n",
       "      <td>family member</td>\n",
       "      <td>No</td>\n",
       "    </tr>\n",
       "    <tr>\n",
       "      <th>15</th>\n",
       "      <td>16</td>\n",
       "      <td>1</td>\n",
       "      <td>1</td>\n",
       "      <td>1</td>\n",
       "      <td>0</td>\n",
       "      <td>1</td>\n",
       "      <td>0</td>\n",
       "      <td>1</td>\n",
       "      <td>1</td>\n",
       "      <td>0</td>\n",
       "      <td>1</td>\n",
       "      <td>12</td>\n",
       "      <td>7</td>\n",
       "      <td>m</td>\n",
       "      <td>black</td>\n",
       "      <td>no</td>\n",
       "      <td>no</td>\n",
       "      <td>family member</td>\n",
       "      <td>Yes</td>\n",
       "    </tr>\n",
       "    <tr>\n",
       "      <th>16</th>\n",
       "      <td>17</td>\n",
       "      <td>0</td>\n",
       "      <td>0</td>\n",
       "      <td>0</td>\n",
       "      <td>0</td>\n",
       "      <td>0</td>\n",
       "      <td>0</td>\n",
       "      <td>0</td>\n",
       "      <td>0</td>\n",
       "      <td>0</td>\n",
       "      <td>0</td>\n",
       "      <td>36</td>\n",
       "      <td>0</td>\n",
       "      <td>m</td>\n",
       "      <td>middle eastern</td>\n",
       "      <td>no</td>\n",
       "      <td>yes</td>\n",
       "      <td>family member</td>\n",
       "      <td>No</td>\n",
       "    </tr>\n",
       "    <tr>\n",
       "      <th>17</th>\n",
       "      <td>18</td>\n",
       "      <td>1</td>\n",
       "      <td>1</td>\n",
       "      <td>1</td>\n",
       "      <td>0</td>\n",
       "      <td>1</td>\n",
       "      <td>1</td>\n",
       "      <td>1</td>\n",
       "      <td>1</td>\n",
       "      <td>0</td>\n",
       "      <td>1</td>\n",
       "      <td>12</td>\n",
       "      <td>8</td>\n",
       "      <td>f</td>\n",
       "      <td>middle eastern</td>\n",
       "      <td>yes</td>\n",
       "      <td>no</td>\n",
       "      <td>family member</td>\n",
       "      <td>Yes</td>\n",
       "    </tr>\n",
       "    <tr>\n",
       "      <th>18</th>\n",
       "      <td>19</td>\n",
       "      <td>1</td>\n",
       "      <td>0</td>\n",
       "      <td>0</td>\n",
       "      <td>0</td>\n",
       "      <td>1</td>\n",
       "      <td>0</td>\n",
       "      <td>0</td>\n",
       "      <td>0</td>\n",
       "      <td>0</td>\n",
       "      <td>1</td>\n",
       "      <td>29</td>\n",
       "      <td>3</td>\n",
       "      <td>f</td>\n",
       "      <td>middle eastern</td>\n",
       "      <td>no</td>\n",
       "      <td>no</td>\n",
       "      <td>family member</td>\n",
       "      <td>No</td>\n",
       "    </tr>\n",
       "    <tr>\n",
       "      <th>19</th>\n",
       "      <td>20</td>\n",
       "      <td>1</td>\n",
       "      <td>1</td>\n",
       "      <td>1</td>\n",
       "      <td>0</td>\n",
       "      <td>1</td>\n",
       "      <td>0</td>\n",
       "      <td>1</td>\n",
       "      <td>1</td>\n",
       "      <td>0</td>\n",
       "      <td>1</td>\n",
       "      <td>12</td>\n",
       "      <td>7</td>\n",
       "      <td>f</td>\n",
       "      <td>black</td>\n",
       "      <td>no</td>\n",
       "      <td>no</td>\n",
       "      <td>family member</td>\n",
       "      <td>Yes</td>\n",
       "    </tr>\n",
       "  </tbody>\n",
       "</table>\n",
       "</div>"
      ],
      "text/plain": [
       "    Case_No  A1  A2  A3  A4  A5  A6  A7  A8  A9  A10  Age_Mons  \\\n",
       "0         1   0   0   0   0   0   0   1   1   0    1        28   \n",
       "1         2   1   1   0   0   0   1   1   0   0    0        36   \n",
       "2         3   1   0   0   0   0   0   1   1   0    1        36   \n",
       "3         4   1   1   1   1   1   1   1   1   1    1        24   \n",
       "4         5   1   1   0   1   1   1   1   1   1    1        20   \n",
       "5         6   1   1   0   0   1   1   1   1   1    1        21   \n",
       "6         7   1   0   0   1   1   1   0   0   1    0        33   \n",
       "7         8   0   1   0   0   1   0   1   1   1    1        33   \n",
       "8         9   0   0   0   0   0   0   1   0   0    1        36   \n",
       "9        10   1   1   1   0   1   1   0   1   1    1        22   \n",
       "10       11   1   0   0   1   0   1   1   0   1    1        36   \n",
       "11       12   1   1   1   1   0   1   1   1   0    1        17   \n",
       "12       13   0   0   0   0   0   0   0   0   0    0        25   \n",
       "13       14   1   1   1   1   0   0   1   0   1    1        15   \n",
       "14       15   0   0   0   0   0   0   0   0   0    0        18   \n",
       "15       16   1   1   1   0   1   0   1   1   0    1        12   \n",
       "16       17   0   0   0   0   0   0   0   0   0    0        36   \n",
       "17       18   1   1   1   0   1   1   1   1   0    1        12   \n",
       "18       19   1   0   0   0   1   0   0   0   0    1        29   \n",
       "19       20   1   1   1   0   1   0   1   1   0    1        12   \n",
       "\n",
       "    Qchat-10-Score Sex       Ethnicity Jaundice Family_mem_with_ASD  \\\n",
       "0                3   f  middle eastern      yes                  no   \n",
       "1                4   m  White European      yes                  no   \n",
       "2                4   m  middle eastern      yes                  no   \n",
       "3               10   m        Hispanic       no                  no   \n",
       "4                9   f  White European       no                 yes   \n",
       "5                8   m           black       no                  no   \n",
       "6                5   m           asian      yes                  no   \n",
       "7                6   m           asian      yes                  no   \n",
       "8                2   m           asian       no                  no   \n",
       "9                8   m     south asian       no                  no   \n",
       "10               6   m        Hispanic      yes                 yes   \n",
       "11               8   m  middle eastern      yes                  no   \n",
       "12               0   f  middle eastern      yes                  no   \n",
       "13               7   f  middle eastern      yes                  no   \n",
       "14               0   m  middle eastern       no                  no   \n",
       "15               7   m           black       no                  no   \n",
       "16               0   m  middle eastern       no                 yes   \n",
       "17               8   f  middle eastern      yes                  no   \n",
       "18               3   f  middle eastern       no                  no   \n",
       "19               7   f           black       no                  no   \n",
       "\n",
       "      Who completed the test Class/ASD Traits   \n",
       "0              family member                No  \n",
       "1              family member               Yes  \n",
       "2              family member               Yes  \n",
       "3              family member               Yes  \n",
       "4              family member               Yes  \n",
       "5              family member               Yes  \n",
       "6              family member               Yes  \n",
       "7              family member               Yes  \n",
       "8              family member                No  \n",
       "9   Health Care Professional               Yes  \n",
       "10             family member               Yes  \n",
       "11             family member               Yes  \n",
       "12             family member                No  \n",
       "13             family member               Yes  \n",
       "14             family member                No  \n",
       "15             family member               Yes  \n",
       "16             family member                No  \n",
       "17             family member               Yes  \n",
       "18             family member                No  \n",
       "19             family member               Yes  "
      ]
     },
     "execution_count": 4,
     "metadata": {},
     "output_type": "execute_result"
    }
   ],
   "source": [
    "v.head(20)"
   ]
  },
  {
   "cell_type": "code",
   "execution_count": 5,
   "id": "c2a425a5",
   "metadata": {
    "execution": {
     "iopub.execute_input": "2025-09-25T11:49:48.555196Z",
     "iopub.status.busy": "2025-09-25T11:49:48.554906Z",
     "iopub.status.idle": "2025-09-25T11:49:48.568331Z",
     "shell.execute_reply": "2025-09-25T11:49:48.567271Z"
    },
    "papermill": {
     "duration": 0.030157,
     "end_time": "2025-09-25T11:49:48.570235",
     "exception": false,
     "start_time": "2025-09-25T11:49:48.540078",
     "status": "completed"
    },
    "tags": []
   },
   "outputs": [],
   "source": [
    "v = v.drop([\"Ethnicity\" , \"Who completed the test\"], axis=1)\n"
   ]
  },
  {
   "cell_type": "code",
   "execution_count": 6,
   "id": "7848d699",
   "metadata": {
    "execution": {
     "iopub.execute_input": "2025-09-25T11:49:48.599307Z",
     "iopub.status.busy": "2025-09-25T11:49:48.599013Z",
     "iopub.status.idle": "2025-09-25T11:49:48.616340Z",
     "shell.execute_reply": "2025-09-25T11:49:48.615407Z"
    },
    "papermill": {
     "duration": 0.033947,
     "end_time": "2025-09-25T11:49:48.618123",
     "exception": false,
     "start_time": "2025-09-25T11:49:48.584176",
     "status": "completed"
    },
    "tags": []
   },
   "outputs": [
    {
     "data": {
      "text/html": [
       "<div>\n",
       "<style scoped>\n",
       "    .dataframe tbody tr th:only-of-type {\n",
       "        vertical-align: middle;\n",
       "    }\n",
       "\n",
       "    .dataframe tbody tr th {\n",
       "        vertical-align: top;\n",
       "    }\n",
       "\n",
       "    .dataframe thead th {\n",
       "        text-align: right;\n",
       "    }\n",
       "</style>\n",
       "<table border=\"1\" class=\"dataframe\">\n",
       "  <thead>\n",
       "    <tr style=\"text-align: right;\">\n",
       "      <th></th>\n",
       "      <th>Case_No</th>\n",
       "      <th>A1</th>\n",
       "      <th>A2</th>\n",
       "      <th>A3</th>\n",
       "      <th>A4</th>\n",
       "      <th>A5</th>\n",
       "      <th>A6</th>\n",
       "      <th>A7</th>\n",
       "      <th>A8</th>\n",
       "      <th>A9</th>\n",
       "      <th>A10</th>\n",
       "      <th>Age_Mons</th>\n",
       "      <th>Qchat-10-Score</th>\n",
       "      <th>Sex</th>\n",
       "      <th>Jaundice</th>\n",
       "      <th>Family_mem_with_ASD</th>\n",
       "      <th>Class/ASD Traits</th>\n",
       "    </tr>\n",
       "  </thead>\n",
       "  <tbody>\n",
       "    <tr>\n",
       "      <th>0</th>\n",
       "      <td>1</td>\n",
       "      <td>0</td>\n",
       "      <td>0</td>\n",
       "      <td>0</td>\n",
       "      <td>0</td>\n",
       "      <td>0</td>\n",
       "      <td>0</td>\n",
       "      <td>1</td>\n",
       "      <td>1</td>\n",
       "      <td>0</td>\n",
       "      <td>1</td>\n",
       "      <td>28</td>\n",
       "      <td>3</td>\n",
       "      <td>f</td>\n",
       "      <td>yes</td>\n",
       "      <td>no</td>\n",
       "      <td>No</td>\n",
       "    </tr>\n",
       "    <tr>\n",
       "      <th>1</th>\n",
       "      <td>2</td>\n",
       "      <td>1</td>\n",
       "      <td>1</td>\n",
       "      <td>0</td>\n",
       "      <td>0</td>\n",
       "      <td>0</td>\n",
       "      <td>1</td>\n",
       "      <td>1</td>\n",
       "      <td>0</td>\n",
       "      <td>0</td>\n",
       "      <td>0</td>\n",
       "      <td>36</td>\n",
       "      <td>4</td>\n",
       "      <td>m</td>\n",
       "      <td>yes</td>\n",
       "      <td>no</td>\n",
       "      <td>Yes</td>\n",
       "    </tr>\n",
       "    <tr>\n",
       "      <th>2</th>\n",
       "      <td>3</td>\n",
       "      <td>1</td>\n",
       "      <td>0</td>\n",
       "      <td>0</td>\n",
       "      <td>0</td>\n",
       "      <td>0</td>\n",
       "      <td>0</td>\n",
       "      <td>1</td>\n",
       "      <td>1</td>\n",
       "      <td>0</td>\n",
       "      <td>1</td>\n",
       "      <td>36</td>\n",
       "      <td>4</td>\n",
       "      <td>m</td>\n",
       "      <td>yes</td>\n",
       "      <td>no</td>\n",
       "      <td>Yes</td>\n",
       "    </tr>\n",
       "    <tr>\n",
       "      <th>3</th>\n",
       "      <td>4</td>\n",
       "      <td>1</td>\n",
       "      <td>1</td>\n",
       "      <td>1</td>\n",
       "      <td>1</td>\n",
       "      <td>1</td>\n",
       "      <td>1</td>\n",
       "      <td>1</td>\n",
       "      <td>1</td>\n",
       "      <td>1</td>\n",
       "      <td>1</td>\n",
       "      <td>24</td>\n",
       "      <td>10</td>\n",
       "      <td>m</td>\n",
       "      <td>no</td>\n",
       "      <td>no</td>\n",
       "      <td>Yes</td>\n",
       "    </tr>\n",
       "    <tr>\n",
       "      <th>4</th>\n",
       "      <td>5</td>\n",
       "      <td>1</td>\n",
       "      <td>1</td>\n",
       "      <td>0</td>\n",
       "      <td>1</td>\n",
       "      <td>1</td>\n",
       "      <td>1</td>\n",
       "      <td>1</td>\n",
       "      <td>1</td>\n",
       "      <td>1</td>\n",
       "      <td>1</td>\n",
       "      <td>20</td>\n",
       "      <td>9</td>\n",
       "      <td>f</td>\n",
       "      <td>no</td>\n",
       "      <td>yes</td>\n",
       "      <td>Yes</td>\n",
       "    </tr>\n",
       "    <tr>\n",
       "      <th>...</th>\n",
       "      <td>...</td>\n",
       "      <td>...</td>\n",
       "      <td>...</td>\n",
       "      <td>...</td>\n",
       "      <td>...</td>\n",
       "      <td>...</td>\n",
       "      <td>...</td>\n",
       "      <td>...</td>\n",
       "      <td>...</td>\n",
       "      <td>...</td>\n",
       "      <td>...</td>\n",
       "      <td>...</td>\n",
       "      <td>...</td>\n",
       "      <td>...</td>\n",
       "      <td>...</td>\n",
       "      <td>...</td>\n",
       "      <td>...</td>\n",
       "    </tr>\n",
       "    <tr>\n",
       "      <th>1049</th>\n",
       "      <td>1050</td>\n",
       "      <td>0</td>\n",
       "      <td>0</td>\n",
       "      <td>0</td>\n",
       "      <td>0</td>\n",
       "      <td>0</td>\n",
       "      <td>0</td>\n",
       "      <td>0</td>\n",
       "      <td>0</td>\n",
       "      <td>0</td>\n",
       "      <td>1</td>\n",
       "      <td>24</td>\n",
       "      <td>1</td>\n",
       "      <td>f</td>\n",
       "      <td>no</td>\n",
       "      <td>yes</td>\n",
       "      <td>No</td>\n",
       "    </tr>\n",
       "    <tr>\n",
       "      <th>1050</th>\n",
       "      <td>1051</td>\n",
       "      <td>0</td>\n",
       "      <td>0</td>\n",
       "      <td>1</td>\n",
       "      <td>1</td>\n",
       "      <td>1</td>\n",
       "      <td>0</td>\n",
       "      <td>1</td>\n",
       "      <td>0</td>\n",
       "      <td>1</td>\n",
       "      <td>0</td>\n",
       "      <td>12</td>\n",
       "      <td>5</td>\n",
       "      <td>m</td>\n",
       "      <td>yes</td>\n",
       "      <td>no</td>\n",
       "      <td>Yes</td>\n",
       "    </tr>\n",
       "    <tr>\n",
       "      <th>1051</th>\n",
       "      <td>1052</td>\n",
       "      <td>1</td>\n",
       "      <td>0</td>\n",
       "      <td>1</td>\n",
       "      <td>1</td>\n",
       "      <td>1</td>\n",
       "      <td>1</td>\n",
       "      <td>1</td>\n",
       "      <td>1</td>\n",
       "      <td>1</td>\n",
       "      <td>1</td>\n",
       "      <td>18</td>\n",
       "      <td>9</td>\n",
       "      <td>m</td>\n",
       "      <td>yes</td>\n",
       "      <td>no</td>\n",
       "      <td>Yes</td>\n",
       "    </tr>\n",
       "    <tr>\n",
       "      <th>1052</th>\n",
       "      <td>1053</td>\n",
       "      <td>1</td>\n",
       "      <td>0</td>\n",
       "      <td>0</td>\n",
       "      <td>0</td>\n",
       "      <td>0</td>\n",
       "      <td>0</td>\n",
       "      <td>0</td>\n",
       "      <td>1</td>\n",
       "      <td>0</td>\n",
       "      <td>1</td>\n",
       "      <td>19</td>\n",
       "      <td>3</td>\n",
       "      <td>m</td>\n",
       "      <td>no</td>\n",
       "      <td>yes</td>\n",
       "      <td>No</td>\n",
       "    </tr>\n",
       "    <tr>\n",
       "      <th>1053</th>\n",
       "      <td>1054</td>\n",
       "      <td>1</td>\n",
       "      <td>1</td>\n",
       "      <td>0</td>\n",
       "      <td>0</td>\n",
       "      <td>1</td>\n",
       "      <td>1</td>\n",
       "      <td>0</td>\n",
       "      <td>1</td>\n",
       "      <td>1</td>\n",
       "      <td>0</td>\n",
       "      <td>24</td>\n",
       "      <td>6</td>\n",
       "      <td>m</td>\n",
       "      <td>yes</td>\n",
       "      <td>yes</td>\n",
       "      <td>Yes</td>\n",
       "    </tr>\n",
       "  </tbody>\n",
       "</table>\n",
       "<p>1054 rows × 17 columns</p>\n",
       "</div>"
      ],
      "text/plain": [
       "      Case_No  A1  A2  A3  A4  A5  A6  A7  A8  A9  A10  Age_Mons  \\\n",
       "0           1   0   0   0   0   0   0   1   1   0    1        28   \n",
       "1           2   1   1   0   0   0   1   1   0   0    0        36   \n",
       "2           3   1   0   0   0   0   0   1   1   0    1        36   \n",
       "3           4   1   1   1   1   1   1   1   1   1    1        24   \n",
       "4           5   1   1   0   1   1   1   1   1   1    1        20   \n",
       "...       ...  ..  ..  ..  ..  ..  ..  ..  ..  ..  ...       ...   \n",
       "1049     1050   0   0   0   0   0   0   0   0   0    1        24   \n",
       "1050     1051   0   0   1   1   1   0   1   0   1    0        12   \n",
       "1051     1052   1   0   1   1   1   1   1   1   1    1        18   \n",
       "1052     1053   1   0   0   0   0   0   0   1   0    1        19   \n",
       "1053     1054   1   1   0   0   1   1   0   1   1    0        24   \n",
       "\n",
       "      Qchat-10-Score Sex Jaundice Family_mem_with_ASD Class/ASD Traits   \n",
       "0                  3   f      yes                  no                No  \n",
       "1                  4   m      yes                  no               Yes  \n",
       "2                  4   m      yes                  no               Yes  \n",
       "3                 10   m       no                  no               Yes  \n",
       "4                  9   f       no                 yes               Yes  \n",
       "...              ...  ..      ...                 ...               ...  \n",
       "1049               1   f       no                 yes                No  \n",
       "1050               5   m      yes                  no               Yes  \n",
       "1051               9   m      yes                  no               Yes  \n",
       "1052               3   m       no                 yes                No  \n",
       "1053               6   m      yes                 yes               Yes  \n",
       "\n",
       "[1054 rows x 17 columns]"
      ]
     },
     "execution_count": 6,
     "metadata": {},
     "output_type": "execute_result"
    }
   ],
   "source": [
    "v"
   ]
  },
  {
   "cell_type": "markdown",
   "id": "36ed604e",
   "metadata": {
    "papermill": {
     "duration": 0.013807,
     "end_time": "2025-09-25T11:49:48.646222",
     "exception": false,
     "start_time": "2025-09-25T11:49:48.632415",
     "status": "completed"
    },
    "tags": []
   },
   "source": [
    "**operation for nan values**\n",
    "\n",
    "**we can see  there is no nan values**"
   ]
  },
  {
   "cell_type": "code",
   "execution_count": 7,
   "id": "26983e8d",
   "metadata": {
    "execution": {
     "iopub.execute_input": "2025-09-25T11:49:48.675583Z",
     "iopub.status.busy": "2025-09-25T11:49:48.675286Z",
     "iopub.status.idle": "2025-09-25T11:49:48.685700Z",
     "shell.execute_reply": "2025-09-25T11:49:48.684558Z"
    },
    "papermill": {
     "duration": 0.027154,
     "end_time": "2025-09-25T11:49:48.687303",
     "exception": false,
     "start_time": "2025-09-25T11:49:48.660149",
     "status": "completed"
    },
    "tags": []
   },
   "outputs": [
    {
     "data": {
      "text/plain": [
       "Case_No                0\n",
       "A1                     0\n",
       "A2                     0\n",
       "A3                     0\n",
       "A4                     0\n",
       "A5                     0\n",
       "A6                     0\n",
       "A7                     0\n",
       "A8                     0\n",
       "A9                     0\n",
       "A10                    0\n",
       "Age_Mons               0\n",
       "Qchat-10-Score         0\n",
       "Sex                    0\n",
       "Jaundice               0\n",
       "Family_mem_with_ASD    0\n",
       "Class/ASD Traits       0\n",
       "dtype: int64"
      ]
     },
     "execution_count": 7,
     "metadata": {},
     "output_type": "execute_result"
    }
   ],
   "source": [
    "v.isnull().sum()"
   ]
  },
  {
   "cell_type": "markdown",
   "id": "92af3647",
   "metadata": {
    "papermill": {
     "duration": 0.013955,
     "end_time": "2025-09-25T11:49:48.716156",
     "exception": false,
     "start_time": "2025-09-25T11:49:48.702201",
     "status": "completed"
    },
    "tags": []
   },
   "source": [
    "encoding asd traits "
   ]
  },
  {
   "cell_type": "code",
   "execution_count": 8,
   "id": "64f557ef",
   "metadata": {
    "execution": {
     "iopub.execute_input": "2025-09-25T11:49:48.746364Z",
     "iopub.status.busy": "2025-09-25T11:49:48.746034Z",
     "iopub.status.idle": "2025-09-25T11:49:48.758805Z",
     "shell.execute_reply": "2025-09-25T11:49:48.757526Z"
    },
    "papermill": {
     "duration": 0.029829,
     "end_time": "2025-09-25T11:49:48.760362",
     "exception": false,
     "start_time": "2025-09-25T11:49:48.730533",
     "status": "completed"
    },
    "tags": []
   },
   "outputs": [
    {
     "name": "stdout",
     "output_type": "stream",
     "text": [
      "[0 1]\n"
     ]
    }
   ],
   "source": [
    "\n",
    "#  converting all the values into the string , stripping and making into \n",
    "# lower case ...\n",
    "\n",
    "v[\"Class/ASD Traits \"] = (\n",
    "    v[\"Class/ASD Traits \"]\n",
    "    .astype(str)       # converting every values into string \n",
    "    .str.strip()       #  removing extra spaces\n",
    "    .str.lower()       #  changing into the lower case\n",
    ")\n",
    "\n",
    "# which condition fullfills we are making Yes and others into NO..\n",
    "\n",
    "\n",
    "v[\"Class/ASD Traits \"] = (v[\"Class/ASD Traits \"] == \"yes\").astype(int)\n",
    "\n",
    "# Unique values check\n",
    "print(v[\"Class/ASD Traits \"].unique())\n"
   ]
  },
  {
   "cell_type": "markdown",
   "id": "2555865f",
   "metadata": {
    "papermill": {
     "duration": 0.014322,
     "end_time": "2025-09-25T11:49:48.789266",
     "exception": false,
     "start_time": "2025-09-25T11:49:48.774944",
     "status": "completed"
    },
    "tags": []
   },
   "source": [
    "\n",
    "**encoding sex categorical column into binary**"
   ]
  },
  {
   "cell_type": "code",
   "execution_count": 9,
   "id": "90ea9817",
   "metadata": {
    "execution": {
     "iopub.execute_input": "2025-09-25T11:49:48.819473Z",
     "iopub.status.busy": "2025-09-25T11:49:48.819020Z",
     "iopub.status.idle": "2025-09-25T11:49:48.825435Z",
     "shell.execute_reply": "2025-09-25T11:49:48.824154Z"
    },
    "papermill": {
     "duration": 0.02364,
     "end_time": "2025-09-25T11:49:48.827495",
     "exception": false,
     "start_time": "2025-09-25T11:49:48.803855",
     "status": "completed"
    },
    "tags": []
   },
   "outputs": [],
   "source": [
    "\n",
    "v[\"Sex\"] = (v[\"Sex\"] == \"m\").astype(int)\n",
    "\n",
    "#  males are represented by 1\n",
    "# females are by 0 \n",
    "\n"
   ]
  },
  {
   "cell_type": "code",
   "execution_count": 10,
   "id": "8904ec94",
   "metadata": {
    "execution": {
     "iopub.execute_input": "2025-09-25T11:49:48.860209Z",
     "iopub.status.busy": "2025-09-25T11:49:48.859897Z",
     "iopub.status.idle": "2025-09-25T11:49:48.871643Z",
     "shell.execute_reply": "2025-09-25T11:49:48.870558Z"
    },
    "papermill": {
     "duration": 0.028853,
     "end_time": "2025-09-25T11:49:48.873292",
     "exception": false,
     "start_time": "2025-09-25T11:49:48.844439",
     "status": "completed"
    },
    "tags": []
   },
   "outputs": [
    {
     "data": {
      "text/plain": [
       "Sex\n",
       "1    735\n",
       "0    319\n",
       "Name: count, dtype: int64"
      ]
     },
     "execution_count": 10,
     "metadata": {},
     "output_type": "execute_result"
    }
   ],
   "source": [
    "v[\"Sex\"].value_counts()"
   ]
  },
  {
   "cell_type": "code",
   "execution_count": 11,
   "id": "482f7658",
   "metadata": {
    "execution": {
     "iopub.execute_input": "2025-09-25T11:49:48.903325Z",
     "iopub.status.busy": "2025-09-25T11:49:48.903039Z",
     "iopub.status.idle": "2025-09-25T11:49:48.911157Z",
     "shell.execute_reply": "2025-09-25T11:49:48.910091Z"
    },
    "papermill": {
     "duration": 0.025185,
     "end_time": "2025-09-25T11:49:48.913125",
     "exception": false,
     "start_time": "2025-09-25T11:49:48.887940",
     "status": "completed"
    },
    "tags": []
   },
   "outputs": [
    {
     "data": {
      "text/plain": [
       "Sex\n",
       "1    69.734345\n",
       "0    30.265655\n",
       "Name: proportion, dtype: float64"
      ]
     },
     "execution_count": 11,
     "metadata": {},
     "output_type": "execute_result"
    }
   ],
   "source": [
    "v[\"Sex\"].value_counts(normalize=True) * 100\n",
    "# in our dataset 69 percent are males and rest are females "
   ]
  },
  {
   "cell_type": "code",
   "execution_count": 12,
   "id": "0d5777a8",
   "metadata": {
    "execution": {
     "iopub.execute_input": "2025-09-25T11:49:48.943090Z",
     "iopub.status.busy": "2025-09-25T11:49:48.942803Z",
     "iopub.status.idle": "2025-09-25T11:49:49.214950Z",
     "shell.execute_reply": "2025-09-25T11:49:49.213748Z"
    },
    "papermill": {
     "duration": 0.289445,
     "end_time": "2025-09-25T11:49:49.216915",
     "exception": false,
     "start_time": "2025-09-25T11:49:48.927470",
     "status": "completed"
    },
    "tags": []
   },
   "outputs": [
    {
     "data": {
      "image/png": "[encoded data removed]",
      "text/plain": [
       "<Figure size 600x600 with 1 Axes>"
      ]
     },
     "metadata": {},
     "output_type": "display_data"
    }
   ],
   "source": [
    "import matplotlib.pyplot as plt\n",
    "\n",
    "# Gender percentage\n",
    "sex_percent = v[\"Sex\"].value_counts(normalize=True) * 100\n",
    "\n",
    "# Pie chart\n",
    "plt.figure(figsize=(6,6))\n",
    "plt.pie(sex_percent, labels=sex_percent.index.map({0:\"Female\", 1:\"Male\"}),\n",
    "        autopct=\"%.1f%%\", startangle=90, colors=[\"pink\",\"lightblue\"],\n",
    "        wedgeprops={'edgecolor':'black'})\n",
    "plt.title(\"Gender Distribution\")\n",
    "plt.show()\n"
   ]
  },
  {
   "cell_type": "code",
   "execution_count": 13,
   "id": "b4d7b63b",
   "metadata": {
    "execution": {
     "iopub.execute_input": "2025-09-25T11:49:49.248598Z",
     "iopub.status.busy": "2025-09-25T11:49:49.248296Z",
     "iopub.status.idle": "2025-09-25T11:49:49.259730Z",
     "shell.execute_reply": "2025-09-25T11:49:49.258771Z"
    },
    "papermill": {
     "duration": 0.028886,
     "end_time": "2025-09-25T11:49:49.261319",
     "exception": false,
     "start_time": "2025-09-25T11:49:49.232433",
     "status": "completed"
    },
    "tags": []
   },
   "outputs": [
    {
     "data": {
      "text/plain": [
       "Sex\n",
       "0    60.815047\n",
       "1    72.653061\n",
       "Name: Class/ASD Traits , dtype: float64"
      ]
     },
     "execution_count": 13,
     "metadata": {},
     "output_type": "execute_result"
    }
   ],
   "source": [
    "v.groupby(\"Sex\")[\"Class/ASD Traits \"].mean() * 100\n"
   ]
  },
  {
   "cell_type": "code",
   "execution_count": 14,
   "id": "cd8c47d8",
   "metadata": {
    "execution": {
     "iopub.execute_input": "2025-09-25T11:49:49.292907Z",
     "iopub.status.busy": "2025-09-25T11:49:49.292589Z",
     "iopub.status.idle": "2025-09-25T11:49:49.494805Z",
     "shell.execute_reply": "2025-09-25T11:49:49.493657Z"
    },
    "papermill": {
     "duration": 0.21992,
     "end_time": "2025-09-25T11:49:49.496397",
     "exception": false,
     "start_time": "2025-09-25T11:49:49.276477",
     "status": "completed"
    },
    "tags": []
   },
   "outputs": [
    {
     "data": {
      "image/png": "[encoded data removed]",
      "text/plain": [
       "<Figure size 700x700 with 1 Axes>"
      ]
     },
     "metadata": {},
     "output_type": "display_data"
    }
   ],
   "source": [
    "import matplotlib.pyplot as plt\n",
    "\n",
    "# Group by sex & ASD traits\n",
    "ct = v.groupby([\"Sex\", \"Class/ASD Traits \"]).size().reset_index(name=\"count\")\n",
    "\n",
    "# Labels dynamic banao\n",
    "ct[\"label\"] = ct.apply(lambda x: \n",
    "                       (\"Male\" if x[\"Sex\"]==1 else \"Female\") + \n",
    "                       (\"-ASD\" if x[\"Class/ASD Traits \"]==1 else \"-NonASD\"), axis=1)\n",
    "\n",
    "# Pie chart\n",
    "plt.figure(figsize=(7,7))\n",
    "plt.pie(ct[\"count\"], labels=ct[\"label\"], autopct=\"%.1f%%\", startangle=90, \n",
    "        colors=[\"lightblue\",\"blue\",\"pink\",\"red\"], wedgeprops={'edgecolor':'black'})\n",
    "plt.title(\"Gender vs ASD Traits Distribution\")\n",
    "plt.show()\n"
   ]
  },
  {
   "cell_type": "code",
   "execution_count": 15,
   "id": "e792eb8c",
   "metadata": {
    "execution": {
     "iopub.execute_input": "2025-09-25T11:49:49.529623Z",
     "iopub.status.busy": "2025-09-25T11:49:49.529272Z",
     "iopub.status.idle": "2025-09-25T11:49:49.543464Z",
     "shell.execute_reply": "2025-09-25T11:49:49.542536Z"
    },
    "papermill": {
     "duration": 0.032584,
     "end_time": "2025-09-25T11:49:49.545179",
     "exception": false,
     "start_time": "2025-09-25T11:49:49.512595",
     "status": "completed"
    },
    "tags": []
   },
   "outputs": [
    {
     "data": {
      "text/html": [
       "<div>\n",
       "<style scoped>\n",
       "    .dataframe tbody tr th:only-of-type {\n",
       "        vertical-align: middle;\n",
       "    }\n",
       "\n",
       "    .dataframe tbody tr th {\n",
       "        vertical-align: top;\n",
       "    }\n",
       "\n",
       "    .dataframe thead th {\n",
       "        text-align: right;\n",
       "    }\n",
       "</style>\n",
       "<table border=\"1\" class=\"dataframe\">\n",
       "  <thead>\n",
       "    <tr style=\"text-align: right;\">\n",
       "      <th></th>\n",
       "      <th>Case_No</th>\n",
       "      <th>A1</th>\n",
       "      <th>A2</th>\n",
       "      <th>A3</th>\n",
       "      <th>A4</th>\n",
       "      <th>A5</th>\n",
       "      <th>A6</th>\n",
       "      <th>A7</th>\n",
       "      <th>A8</th>\n",
       "      <th>A9</th>\n",
       "      <th>A10</th>\n",
       "      <th>Age_Mons</th>\n",
       "      <th>Qchat-10-Score</th>\n",
       "      <th>Sex</th>\n",
       "      <th>Jaundice</th>\n",
       "      <th>Family_mem_with_ASD</th>\n",
       "      <th>Class/ASD Traits</th>\n",
       "    </tr>\n",
       "  </thead>\n",
       "  <tbody>\n",
       "    <tr>\n",
       "      <th>0</th>\n",
       "      <td>1</td>\n",
       "      <td>0</td>\n",
       "      <td>0</td>\n",
       "      <td>0</td>\n",
       "      <td>0</td>\n",
       "      <td>0</td>\n",
       "      <td>0</td>\n",
       "      <td>1</td>\n",
       "      <td>1</td>\n",
       "      <td>0</td>\n",
       "      <td>1</td>\n",
       "      <td>28</td>\n",
       "      <td>3</td>\n",
       "      <td>0</td>\n",
       "      <td>yes</td>\n",
       "      <td>no</td>\n",
       "      <td>0</td>\n",
       "    </tr>\n",
       "    <tr>\n",
       "      <th>1</th>\n",
       "      <td>2</td>\n",
       "      <td>1</td>\n",
       "      <td>1</td>\n",
       "      <td>0</td>\n",
       "      <td>0</td>\n",
       "      <td>0</td>\n",
       "      <td>1</td>\n",
       "      <td>1</td>\n",
       "      <td>0</td>\n",
       "      <td>0</td>\n",
       "      <td>0</td>\n",
       "      <td>36</td>\n",
       "      <td>4</td>\n",
       "      <td>1</td>\n",
       "      <td>yes</td>\n",
       "      <td>no</td>\n",
       "      <td>1</td>\n",
       "    </tr>\n",
       "    <tr>\n",
       "      <th>2</th>\n",
       "      <td>3</td>\n",
       "      <td>1</td>\n",
       "      <td>0</td>\n",
       "      <td>0</td>\n",
       "      <td>0</td>\n",
       "      <td>0</td>\n",
       "      <td>0</td>\n",
       "      <td>1</td>\n",
       "      <td>1</td>\n",
       "      <td>0</td>\n",
       "      <td>1</td>\n",
       "      <td>36</td>\n",
       "      <td>4</td>\n",
       "      <td>1</td>\n",
       "      <td>yes</td>\n",
       "      <td>no</td>\n",
       "      <td>1</td>\n",
       "    </tr>\n",
       "    <tr>\n",
       "      <th>3</th>\n",
       "      <td>4</td>\n",
       "      <td>1</td>\n",
       "      <td>1</td>\n",
       "      <td>1</td>\n",
       "      <td>1</td>\n",
       "      <td>1</td>\n",
       "      <td>1</td>\n",
       "      <td>1</td>\n",
       "      <td>1</td>\n",
       "      <td>1</td>\n",
       "      <td>1</td>\n",
       "      <td>24</td>\n",
       "      <td>10</td>\n",
       "      <td>1</td>\n",
       "      <td>no</td>\n",
       "      <td>no</td>\n",
       "      <td>1</td>\n",
       "    </tr>\n",
       "    <tr>\n",
       "      <th>4</th>\n",
       "      <td>5</td>\n",
       "      <td>1</td>\n",
       "      <td>1</td>\n",
       "      <td>0</td>\n",
       "      <td>1</td>\n",
       "      <td>1</td>\n",
       "      <td>1</td>\n",
       "      <td>1</td>\n",
       "      <td>1</td>\n",
       "      <td>1</td>\n",
       "      <td>1</td>\n",
       "      <td>20</td>\n",
       "      <td>9</td>\n",
       "      <td>0</td>\n",
       "      <td>no</td>\n",
       "      <td>yes</td>\n",
       "      <td>1</td>\n",
       "    </tr>\n",
       "  </tbody>\n",
       "</table>\n",
       "</div>"
      ],
      "text/plain": [
       "   Case_No  A1  A2  A3  A4  A5  A6  A7  A8  A9  A10  Age_Mons  Qchat-10-Score  \\\n",
       "0        1   0   0   0   0   0   0   1   1   0    1        28               3   \n",
       "1        2   1   1   0   0   0   1   1   0   0    0        36               4   \n",
       "2        3   1   0   0   0   0   0   1   1   0    1        36               4   \n",
       "3        4   1   1   1   1   1   1   1   1   1    1        24              10   \n",
       "4        5   1   1   0   1   1   1   1   1   1    1        20               9   \n",
       "\n",
       "   Sex Jaundice Family_mem_with_ASD  Class/ASD Traits   \n",
       "0    0      yes                  no                  0  \n",
       "1    1      yes                  no                  1  \n",
       "2    1      yes                  no                  1  \n",
       "3    1       no                  no                  1  \n",
       "4    0       no                 yes                  1  "
      ]
     },
     "execution_count": 15,
     "metadata": {},
     "output_type": "execute_result"
    }
   ],
   "source": [
    "v.head(5) "
   ]
  },
  {
   "cell_type": "markdown",
   "id": "b112e757",
   "metadata": {
    "papermill": {
     "duration": 0.015708,
     "end_time": "2025-09-25T11:49:49.577009",
     "exception": false,
     "start_time": "2025-09-25T11:49:49.561301",
     "status": "completed"
    },
    "tags": []
   },
   "source": [
    "**encoding family men into binary form**"
   ]
  },
  {
   "cell_type": "code",
   "execution_count": 16,
   "id": "58b14353",
   "metadata": {
    "execution": {
     "iopub.execute_input": "2025-09-25T11:49:49.610695Z",
     "iopub.status.busy": "2025-09-25T11:49:49.610326Z",
     "iopub.status.idle": "2025-09-25T11:49:49.616622Z",
     "shell.execute_reply": "2025-09-25T11:49:49.615597Z"
    },
    "papermill": {
     "duration": 0.025,
     "end_time": "2025-09-25T11:49:49.618287",
     "exception": false,
     "start_time": "2025-09-25T11:49:49.593287",
     "status": "completed"
    },
    "tags": []
   },
   "outputs": [],
   "source": [
    "v[\"Family_mem_with_ASD\"] = (v[\"Family_mem_with_ASD\"] == \"yes\").astype(int)"
   ]
  },
  {
   "cell_type": "markdown",
   "id": "a0925c7e",
   "metadata": {
    "papermill": {
     "duration": 0.015799,
     "end_time": "2025-09-25T11:49:49.650187",
     "exception": false,
     "start_time": "2025-09-25T11:49:49.634388",
     "status": "completed"
    },
    "tags": []
   },
   "source": [
    "**encoding jaundice into binary form**"
   ]
  },
  {
   "cell_type": "code",
   "execution_count": 17,
   "id": "ab30094a",
   "metadata": {
    "execution": {
     "iopub.execute_input": "2025-09-25T11:49:49.684079Z",
     "iopub.status.busy": "2025-09-25T11:49:49.683793Z",
     "iopub.status.idle": "2025-09-25T11:49:49.689056Z",
     "shell.execute_reply": "2025-09-25T11:49:49.688151Z"
    },
    "papermill": {
     "duration": 0.024263,
     "end_time": "2025-09-25T11:49:49.690798",
     "exception": false,
     "start_time": "2025-09-25T11:49:49.666535",
     "status": "completed"
    },
    "tags": []
   },
   "outputs": [],
   "source": [
    "v[\"Jaundice\"] = (v[\"Jaundice\"] == \"yes\").astype(int)"
   ]
  },
  {
   "cell_type": "code",
   "execution_count": 18,
   "id": "684e5b58",
   "metadata": {
    "execution": {
     "iopub.execute_input": "2025-09-25T11:49:49.726170Z",
     "iopub.status.busy": "2025-09-25T11:49:49.725857Z",
     "iopub.status.idle": "2025-09-25T11:49:49.732983Z",
     "shell.execute_reply": "2025-09-25T11:49:49.732001Z"
    },
    "papermill": {
     "duration": 0.026967,
     "end_time": "2025-09-25T11:49:49.734621",
     "exception": false,
     "start_time": "2025-09-25T11:49:49.707654",
     "status": "completed"
    },
    "tags": []
   },
   "outputs": [
    {
     "data": {
      "text/plain": [
       "Jaundice\n",
       "0    766\n",
       "1    288\n",
       "Name: count, dtype: int64"
      ]
     },
     "execution_count": 18,
     "metadata": {},
     "output_type": "execute_result"
    }
   ],
   "source": [
    "v[\"Jaundice\"].value_counts() "
   ]
  },
  {
   "cell_type": "code",
   "execution_count": 19,
   "id": "37d32dd7",
   "metadata": {
    "execution": {
     "iopub.execute_input": "2025-09-25T11:49:49.768422Z",
     "iopub.status.busy": "2025-09-25T11:49:49.768117Z",
     "iopub.status.idle": "2025-09-25T11:49:49.773428Z",
     "shell.execute_reply": "2025-09-25T11:49:49.772440Z"
    },
    "papermill": {
     "duration": 0.023983,
     "end_time": "2025-09-25T11:49:49.775049",
     "exception": false,
     "start_time": "2025-09-25T11:49:49.751066",
     "status": "completed"
    },
    "tags": []
   },
   "outputs": [
    {
     "name": "stdout",
     "output_type": "stream",
     "text": [
      "['Case_No', 'A1', 'A2', 'A3', 'A4', 'A5', 'A6', 'A7', 'A8', 'A9', 'A10', 'Age_Mons', 'Qchat-10-Score', 'Sex', 'Jaundice', 'Family_mem_with_ASD', 'Class/ASD Traits ']\n"
     ]
    }
   ],
   "source": [
    "print(v.columns.tolist())\n",
    "\n",
    "# can see all the features of our datsets"
   ]
  },
  {
   "cell_type": "markdown",
   "id": "3a8d4769",
   "metadata": {
    "papermill": {
     "duration": 0.01582,
     "end_time": "2025-09-25T11:49:49.807548",
     "exception": false,
     "start_time": "2025-09-25T11:49:49.791728",
     "status": "completed"
    },
    "tags": []
   },
   "source": [
    "**cleaning the asd traits column name**"
   ]
  },
  {
   "cell_type": "markdown",
   "id": "95f10b7f",
   "metadata": {
    "papermill": {
     "duration": 0.017449,
     "end_time": "2025-09-25T11:49:49.841208",
     "exception": false,
     "start_time": "2025-09-25T11:49:49.823759",
     "status": "completed"
    },
    "tags": []
   },
   "source": [
    "**Here we are finding out the correlation between inputs features to asd traits features**"
   ]
  },
  {
   "cell_type": "code",
   "execution_count": 20,
   "id": "7a0da280",
   "metadata": {
    "execution": {
     "iopub.execute_input": "2025-09-25T11:49:49.877755Z",
     "iopub.status.busy": "2025-09-25T11:49:49.877384Z",
     "iopub.status.idle": "2025-09-25T11:49:49.884340Z",
     "shell.execute_reply": "2025-09-25T11:49:49.883408Z"
    },
    "papermill": {
     "duration": 0.028841,
     "end_time": "2025-09-25T11:49:49.886052",
     "exception": false,
     "start_time": "2025-09-25T11:49:49.857211",
     "status": "completed"
    },
    "tags": []
   },
   "outputs": [],
   "source": [
    "corr = v.corr()[\"Class/ASD Traits \"]"
   ]
  },
  {
   "cell_type": "code",
   "execution_count": 21,
   "id": "de28676d",
   "metadata": {
    "execution": {
     "iopub.execute_input": "2025-09-25T11:49:49.919813Z",
     "iopub.status.busy": "2025-09-25T11:49:49.919474Z",
     "iopub.status.idle": "2025-09-25T11:49:49.926485Z",
     "shell.execute_reply": "2025-09-25T11:49:49.925505Z"
    },
    "papermill": {
     "duration": 0.025926,
     "end_time": "2025-09-25T11:49:49.928268",
     "exception": false,
     "start_time": "2025-09-25T11:49:49.902342",
     "status": "completed"
    },
    "tags": []
   },
   "outputs": [
    {
     "data": {
      "text/plain": [
       "Case_No                0.079966\n",
       "A1                     0.503810\n",
       "A2                     0.463467\n",
       "A3                     0.409701\n",
       "A4                     0.505204\n",
       "A5                     0.563297\n",
       "A6                     0.569424\n",
       "A7                     0.563177\n",
       "A8                     0.427155\n",
       "A9                     0.577336\n",
       "A10                    0.179833\n",
       "Age_Mons               0.066831\n",
       "Qchat-10-Score         0.810423\n",
       "Sex                    0.117664\n",
       "Jaundice               0.074060\n",
       "Family_mem_with_ASD   -0.013503\n",
       "Class/ASD Traits       1.000000\n",
       "Name: Class/ASD Traits , dtype: float64"
      ]
     },
     "execution_count": 21,
     "metadata": {},
     "output_type": "execute_result"
    }
   ],
   "source": [
    "corr\n",
    "\n",
    "#  can say by this observence that \n",
    "\n",
    "#  \"Q chat score\" \n",
    "\n",
    "# has extreme correlation to the asd traits \n"
   ]
  },
  {
   "cell_type": "markdown",
   "id": "3e33e7be",
   "metadata": {
    "papermill": {
     "duration": 0.016407,
     "end_time": "2025-09-25T11:49:49.961282",
     "exception": false,
     "start_time": "2025-09-25T11:49:49.944875",
     "status": "completed"
    },
    "tags": []
   },
   "source": [
    "**correlation by using  heatmap**"
   ]
  },
  {
   "cell_type": "markdown",
   "id": "7831bdcf",
   "metadata": {
    "papermill": {
     "duration": 0.015993,
     "end_time": "2025-09-25T11:49:49.994114",
     "exception": false,
     "start_time": "2025-09-25T11:49:49.978121",
     "status": "completed"
    },
    "tags": []
   },
   "source": [
    "****"
   ]
  },
  {
   "cell_type": "markdown",
   "id": "89b9e5cd",
   "metadata": {
    "papermill": {
     "duration": 0.015802,
     "end_time": "2025-09-25T11:49:50.026129",
     "exception": false,
     "start_time": "2025-09-25T11:49:50.010327",
     "status": "completed"
    },
    "tags": []
   },
   "source": [
    "# Exploratory Data Analysis"
   ]
  },
  {
   "cell_type": "code",
   "execution_count": 22,
   "id": "56a078c0",
   "metadata": {
    "execution": {
     "iopub.execute_input": "2025-09-25T11:49:50.060531Z",
     "iopub.status.busy": "2025-09-25T11:49:50.059549Z",
     "iopub.status.idle": "2025-09-25T11:49:52.532053Z",
     "shell.execute_reply": "2025-09-25T11:49:52.530973Z"
    },
    "papermill": {
     "duration": 2.49113,
     "end_time": "2025-09-25T11:49:52.533629",
     "exception": false,
     "start_time": "2025-09-25T11:49:50.042499",
     "status": "completed"
    },
    "tags": []
   },
   "outputs": [
    {
     "data": {
      "image/png": "[encoded data removed]",
      "text/plain": [
       "<Figure size 600x800 with 1 Axes>"
      ]
     },
     "metadata": {},
     "output_type": "display_data"
    }
   ],
   "source": [
    "import matplotlib.pyplot as plt\n",
    "import seaborn as sns\n",
    "\n",
    "# Correlation matrix\n",
    "corr = v.corr()\n",
    "\n",
    "# correlation in the respect of heatmap \n",
    "plt.figure(figsize=(6,8))\n",
    "sns.heatmap(corr[[\"Class/ASD Traits \"]].sort_values(by=\"Class/ASD Traits \", ascending=False), \n",
    "            annot=True, cmap=\"coolwarm\", cbar=False)\n",
    "\n",
    "plt.title(\"Correlation with Class/ASD Traits\")\n",
    "plt.show()\n"
   ]
  },
  {
   "cell_type": "markdown",
   "id": "0f81c486",
   "metadata": {
    "papermill": {
     "duration": 0.017074,
     "end_time": "2025-09-25T11:49:52.570508",
     "exception": false,
     "start_time": "2025-09-25T11:49:52.553434",
     "status": "completed"
    },
    "tags": []
   },
   "source": [
    "> **Distribution of ASd traits**"
   ]
  },
  {
   "cell_type": "code",
   "execution_count": 23,
   "id": "f8124e42",
   "metadata": {
    "execution": {
     "iopub.execute_input": "2025-09-25T11:49:52.607030Z",
     "iopub.status.busy": "2025-09-25T11:49:52.606553Z",
     "iopub.status.idle": "2025-09-25T11:49:52.615058Z",
     "shell.execute_reply": "2025-09-25T11:49:52.614060Z"
    },
    "papermill": {
     "duration": 0.02901,
     "end_time": "2025-09-25T11:49:52.616900",
     "exception": false,
     "start_time": "2025-09-25T11:49:52.587890",
     "status": "completed"
    },
    "tags": []
   },
   "outputs": [
    {
     "data": {
      "text/plain": [
       "Class/ASD Traits \n",
       "1    69.070209\n",
       "0    30.929791\n",
       "Name: proportion, dtype: float64"
      ]
     },
     "execution_count": 23,
     "metadata": {},
     "output_type": "execute_result"
    }
   ],
   "source": [
    "v[\"Class/ASD Traits \"].value_counts(normalize=True) * 100"
   ]
  },
  {
   "cell_type": "code",
   "execution_count": 24,
   "id": "8585d62e",
   "metadata": {
    "execution": {
     "iopub.execute_input": "2025-09-25T11:49:52.653535Z",
     "iopub.status.busy": "2025-09-25T11:49:52.653160Z",
     "iopub.status.idle": "2025-09-25T11:49:52.755925Z",
     "shell.execute_reply": "2025-09-25T11:49:52.754635Z"
    },
    "papermill": {
     "duration": 0.12319,
     "end_time": "2025-09-25T11:49:52.757820",
     "exception": false,
     "start_time": "2025-09-25T11:49:52.634630",
     "status": "completed"
    },
    "tags": []
   },
   "outputs": [
    {
     "data": {
      "image/png": "[encoded data removed]",
      "text/plain": [
       "<Figure size 600x600 with 1 Axes>"
      ]
     },
     "metadata": {},
     "output_type": "display_data"
    }
   ],
   "source": [
    "import matplotlib.pyplot as plt\n",
    "\n",
    "# Value counts (0 = No ASD Traits, 1 = ASD Traits)\n",
    "counts = v[\"Class/ASD Traits \"].value_counts()\n",
    "\n",
    "# Labels\n",
    "labels = [\" ASD Traits (1)\", \" No ASD Traits (0)\"]\n",
    "\n",
    "# Pie chart\n",
    "plt.figure(figsize=(6,6))\n",
    "plt.pie(counts, labels=labels, autopct=\"%.1f%%\", startangle=90, colors=[\"skyblue\", \"salmon\"])\n",
    "plt.title(\"Distribution of ASD Traits\")\n",
    "plt.show()\n"
   ]
  },
  {
   "cell_type": "markdown",
   "id": "d974808b",
   "metadata": {
    "papermill": {
     "duration": 0.024701,
     "end_time": "2025-09-25T11:49:52.802025",
     "exception": false,
     "start_time": "2025-09-25T11:49:52.777324",
     "status": "completed"
    },
    "tags": []
   },
   "source": [
    "**Q chat score analysis in respect to autism traits**"
   ]
  },
  {
   "cell_type": "code",
   "execution_count": 25,
   "id": "4b6af38b",
   "metadata": {
    "execution": {
     "iopub.execute_input": "2025-09-25T11:49:52.840556Z",
     "iopub.status.busy": "2025-09-25T11:49:52.840178Z",
     "iopub.status.idle": "2025-09-25T11:49:52.845339Z",
     "shell.execute_reply": "2025-09-25T11:49:52.844116Z"
    },
    "papermill": {
     "duration": 0.027065,
     "end_time": "2025-09-25T11:49:52.847439",
     "exception": false,
     "start_time": "2025-09-25T11:49:52.820374",
     "status": "completed"
    },
    "tags": []
   },
   "outputs": [],
   "source": [
    "# by this observence we can say that after having 3 score \n",
    "# the child have the autism traits"
   ]
  },
  {
   "cell_type": "code",
   "execution_count": 26,
   "id": "c99d0350",
   "metadata": {
    "execution": {
     "iopub.execute_input": "2025-09-25T11:49:52.886309Z",
     "iopub.status.busy": "2025-09-25T11:49:52.885964Z",
     "iopub.status.idle": "2025-09-25T11:49:53.264050Z",
     "shell.execute_reply": "2025-09-25T11:49:53.262874Z"
    },
    "papermill": {
     "duration": 0.400174,
     "end_time": "2025-09-25T11:49:53.265942",
     "exception": false,
     "start_time": "2025-09-25T11:49:52.865768",
     "status": "completed"
    },
    "tags": []
   },
   "outputs": [
    {
     "name": "stdout",
     "output_type": "stream",
     "text": [
      "Class/ASD Traits    0    1\n",
      "Qchat-10-Score            \n",
      "0                  54    0\n",
      "1                  88    0\n",
      "2                  88    0\n",
      "3                  96    0\n",
      "4                   0  110\n",
      "5                   0  120\n",
      "6                   0   96\n",
      "7                   0  135\n",
      "8                   0   97\n",
      "9                   0   95\n",
      "10                  0   75\n"
     ]
    },
    {
     "data": {
      "image/png": "[encoded data removed]",
      "text/plain": [
       "<Figure size 1000x600 with 1 Axes>"
      ]
     },
     "metadata": {},
     "output_type": "display_data"
    }
   ],
   "source": [
    "import matplotlib.pyplot as plt\n",
    "\n",
    "# Grouping: har score pe kitne ASD=0 aur ASD=1 hain\n",
    "score_relation = v.groupby([\"Qchat-10-Score\", \"Class/ASD Traits \"]).size().unstack(fill_value=0)\n",
    "\n",
    "print(score_relation)\n",
    "\n",
    "# Stacked bar plot\n",
    "score_relation.plot(kind=\"bar\", stacked=True, figsize=(10,6), colormap=\"coolwarm\")\n",
    "\n",
    "plt.title(\"Qchat-10 Score vs ASD Traits\")\n",
    "plt.xlabel(\"Qchat-10 Score\")\n",
    "plt.ylabel(\"Count of Children\")\n",
    "plt.legend(title=\"ASD Traits\")\n",
    "plt.show()\n",
    "\n"
   ]
  },
  {
   "cell_type": "code",
   "execution_count": 27,
   "id": "d822c828",
   "metadata": {
    "execution": {
     "iopub.execute_input": "2025-09-25T11:49:53.307823Z",
     "iopub.status.busy": "2025-09-25T11:49:53.307471Z",
     "iopub.status.idle": "2025-09-25T11:49:53.333639Z",
     "shell.execute_reply": "2025-09-25T11:49:53.332539Z"
    },
    "papermill": {
     "duration": 0.050863,
     "end_time": "2025-09-25T11:49:53.335520",
     "exception": false,
     "start_time": "2025-09-25T11:49:53.284657",
     "status": "completed"
    },
    "tags": []
   },
   "outputs": [
    {
     "data": {
      "text/html": [
       "<div>\n",
       "<style scoped>\n",
       "    .dataframe tbody tr th:only-of-type {\n",
       "        vertical-align: middle;\n",
       "    }\n",
       "\n",
       "    .dataframe tbody tr th {\n",
       "        vertical-align: top;\n",
       "    }\n",
       "\n",
       "    .dataframe thead th {\n",
       "        text-align: right;\n",
       "    }\n",
       "</style>\n",
       "<table border=\"1\" class=\"dataframe\">\n",
       "  <thead>\n",
       "    <tr style=\"text-align: right;\">\n",
       "      <th></th>\n",
       "      <th>Case_No</th>\n",
       "      <th>A1</th>\n",
       "      <th>A2</th>\n",
       "      <th>A3</th>\n",
       "      <th>A4</th>\n",
       "      <th>A5</th>\n",
       "      <th>A6</th>\n",
       "      <th>A7</th>\n",
       "      <th>A8</th>\n",
       "      <th>A9</th>\n",
       "      <th>A10</th>\n",
       "      <th>Age_Mons</th>\n",
       "      <th>Qchat-10-Score</th>\n",
       "      <th>Sex</th>\n",
       "      <th>Jaundice</th>\n",
       "      <th>Family_mem_with_ASD</th>\n",
       "      <th>Class/ASD Traits</th>\n",
       "    </tr>\n",
       "  </thead>\n",
       "  <tbody>\n",
       "    <tr>\n",
       "      <th>Case_No</th>\n",
       "      <td>1.000000</td>\n",
       "      <td>0.050828</td>\n",
       "      <td>-0.002668</td>\n",
       "      <td>0.082087</td>\n",
       "      <td>0.073426</td>\n",
       "      <td>0.055263</td>\n",
       "      <td>0.041315</td>\n",
       "      <td>0.087687</td>\n",
       "      <td>0.023916</td>\n",
       "      <td>0.069870</td>\n",
       "      <td>-0.027257</td>\n",
       "      <td>0.027098</td>\n",
       "      <td>0.077110</td>\n",
       "      <td>0.066949</td>\n",
       "      <td>-0.002757</td>\n",
       "      <td>-0.013243</td>\n",
       "      <td>0.079966</td>\n",
       "    </tr>\n",
       "    <tr>\n",
       "      <th>A1</th>\n",
       "      <td>0.050828</td>\n",
       "      <td>1.000000</td>\n",
       "      <td>0.463227</td>\n",
       "      <td>0.244362</td>\n",
       "      <td>0.247524</td>\n",
       "      <td>0.284808</td>\n",
       "      <td>0.373083</td>\n",
       "      <td>0.332705</td>\n",
       "      <td>0.208197</td>\n",
       "      <td>0.322226</td>\n",
       "      <td>0.130966</td>\n",
       "      <td>0.040508</td>\n",
       "      <td>0.614064</td>\n",
       "      <td>0.111508</td>\n",
       "      <td>-0.005613</td>\n",
       "      <td>0.053020</td>\n",
       "      <td>0.503810</td>\n",
       "    </tr>\n",
       "    <tr>\n",
       "      <th>A2</th>\n",
       "      <td>-0.002668</td>\n",
       "      <td>0.463227</td>\n",
       "      <td>1.000000</td>\n",
       "      <td>0.206927</td>\n",
       "      <td>0.265867</td>\n",
       "      <td>0.259105</td>\n",
       "      <td>0.309461</td>\n",
       "      <td>0.294314</td>\n",
       "      <td>0.251865</td>\n",
       "      <td>0.268784</td>\n",
       "      <td>0.157498</td>\n",
       "      <td>0.037744</td>\n",
       "      <td>0.592424</td>\n",
       "      <td>0.067086</td>\n",
       "      <td>0.046039</td>\n",
       "      <td>0.034800</td>\n",
       "      <td>0.463467</td>\n",
       "    </tr>\n",
       "    <tr>\n",
       "      <th>A3</th>\n",
       "      <td>0.082087</td>\n",
       "      <td>0.244362</td>\n",
       "      <td>0.206927</td>\n",
       "      <td>1.000000</td>\n",
       "      <td>0.547100</td>\n",
       "      <td>0.349086</td>\n",
       "      <td>0.297719</td>\n",
       "      <td>0.211375</td>\n",
       "      <td>0.243758</td>\n",
       "      <td>0.379129</td>\n",
       "      <td>0.003848</td>\n",
       "      <td>-0.109880</td>\n",
       "      <td>0.592885</td>\n",
       "      <td>0.063299</td>\n",
       "      <td>-0.006874</td>\n",
       "      <td>0.040913</td>\n",
       "      <td>0.409701</td>\n",
       "    </tr>\n",
       "    <tr>\n",
       "      <th>A4</th>\n",
       "      <td>0.073426</td>\n",
       "      <td>0.247524</td>\n",
       "      <td>0.265867</td>\n",
       "      <td>0.547100</td>\n",
       "      <td>1.000000</td>\n",
       "      <td>0.348459</td>\n",
       "      <td>0.347693</td>\n",
       "      <td>0.318546</td>\n",
       "      <td>0.251504</td>\n",
       "      <td>0.427683</td>\n",
       "      <td>0.016872</td>\n",
       "      <td>-0.087873</td>\n",
       "      <td>0.642890</td>\n",
       "      <td>0.105087</td>\n",
       "      <td>0.027464</td>\n",
       "      <td>-0.036625</td>\n",
       "      <td>0.505204</td>\n",
       "    </tr>\n",
       "    <tr>\n",
       "      <th>A5</th>\n",
       "      <td>0.055263</td>\n",
       "      <td>0.284808</td>\n",
       "      <td>0.259105</td>\n",
       "      <td>0.349086</td>\n",
       "      <td>0.348459</td>\n",
       "      <td>1.000000</td>\n",
       "      <td>0.415309</td>\n",
       "      <td>0.348913</td>\n",
       "      <td>0.316661</td>\n",
       "      <td>0.441892</td>\n",
       "      <td>0.045347</td>\n",
       "      <td>0.018448</td>\n",
       "      <td>0.649518</td>\n",
       "      <td>0.129724</td>\n",
       "      <td>0.025135</td>\n",
       "      <td>-0.021662</td>\n",
       "      <td>0.563297</td>\n",
       "    </tr>\n",
       "    <tr>\n",
       "      <th>A6</th>\n",
       "      <td>0.041315</td>\n",
       "      <td>0.373083</td>\n",
       "      <td>0.309461</td>\n",
       "      <td>0.297719</td>\n",
       "      <td>0.347693</td>\n",
       "      <td>0.415309</td>\n",
       "      <td>1.000000</td>\n",
       "      <td>0.361758</td>\n",
       "      <td>0.280556</td>\n",
       "      <td>0.416213</td>\n",
       "      <td>0.072162</td>\n",
       "      <td>0.065907</td>\n",
       "      <td>0.659377</td>\n",
       "      <td>0.025144</td>\n",
       "      <td>-0.004882</td>\n",
       "      <td>0.046654</td>\n",
       "      <td>0.569424</td>\n",
       "    </tr>\n",
       "    <tr>\n",
       "      <th>A7</th>\n",
       "      <td>0.087687</td>\n",
       "      <td>0.332705</td>\n",
       "      <td>0.294314</td>\n",
       "      <td>0.211375</td>\n",
       "      <td>0.318546</td>\n",
       "      <td>0.348913</td>\n",
       "      <td>0.361758</td>\n",
       "      <td>1.000000</td>\n",
       "      <td>0.257228</td>\n",
       "      <td>0.360686</td>\n",
       "      <td>0.175114</td>\n",
       "      <td>0.021442</td>\n",
       "      <td>0.619053</td>\n",
       "      <td>0.044680</td>\n",
       "      <td>0.048327</td>\n",
       "      <td>-0.024248</td>\n",
       "      <td>0.563177</td>\n",
       "    </tr>\n",
       "    <tr>\n",
       "      <th>A8</th>\n",
       "      <td>0.023916</td>\n",
       "      <td>0.208197</td>\n",
       "      <td>0.251865</td>\n",
       "      <td>0.243758</td>\n",
       "      <td>0.251504</td>\n",
       "      <td>0.316661</td>\n",
       "      <td>0.280556</td>\n",
       "      <td>0.257228</td>\n",
       "      <td>1.000000</td>\n",
       "      <td>0.293457</td>\n",
       "      <td>0.082004</td>\n",
       "      <td>0.080505</td>\n",
       "      <td>0.543229</td>\n",
       "      <td>0.076609</td>\n",
       "      <td>0.003202</td>\n",
       "      <td>-0.036569</td>\n",
       "      <td>0.427155</td>\n",
       "    </tr>\n",
       "    <tr>\n",
       "      <th>A9</th>\n",
       "      <td>0.069870</td>\n",
       "      <td>0.322226</td>\n",
       "      <td>0.268784</td>\n",
       "      <td>0.379129</td>\n",
       "      <td>0.427683</td>\n",
       "      <td>0.441892</td>\n",
       "      <td>0.416213</td>\n",
       "      <td>0.360686</td>\n",
       "      <td>0.293457</td>\n",
       "      <td>1.000000</td>\n",
       "      <td>0.028710</td>\n",
       "      <td>-0.048650</td>\n",
       "      <td>0.671638</td>\n",
       "      <td>0.087463</td>\n",
       "      <td>0.012801</td>\n",
       "      <td>-0.011486</td>\n",
       "      <td>0.577336</td>\n",
       "    </tr>\n",
       "    <tr>\n",
       "      <th>A10</th>\n",
       "      <td>-0.027257</td>\n",
       "      <td>0.130966</td>\n",
       "      <td>0.157498</td>\n",
       "      <td>0.003848</td>\n",
       "      <td>0.016872</td>\n",
       "      <td>0.045347</td>\n",
       "      <td>0.072162</td>\n",
       "      <td>0.175114</td>\n",
       "      <td>0.082004</td>\n",
       "      <td>0.028710</td>\n",
       "      <td>1.000000</td>\n",
       "      <td>-0.013021</td>\n",
       "      <td>0.290145</td>\n",
       "      <td>-0.050145</td>\n",
       "      <td>0.026521</td>\n",
       "      <td>0.006927</td>\n",
       "      <td>0.179833</td>\n",
       "    </tr>\n",
       "    <tr>\n",
       "      <th>Age_Mons</th>\n",
       "      <td>0.027098</td>\n",
       "      <td>0.040508</td>\n",
       "      <td>0.037744</td>\n",
       "      <td>-0.109880</td>\n",
       "      <td>-0.087873</td>\n",
       "      <td>0.018448</td>\n",
       "      <td>0.065907</td>\n",
       "      <td>0.021442</td>\n",
       "      <td>0.080505</td>\n",
       "      <td>-0.048650</td>\n",
       "      <td>-0.013021</td>\n",
       "      <td>1.000000</td>\n",
       "      <td>0.000849</td>\n",
       "      <td>0.128840</td>\n",
       "      <td>-0.042372</td>\n",
       "      <td>0.032851</td>\n",
       "      <td>0.066831</td>\n",
       "    </tr>\n",
       "    <tr>\n",
       "      <th>Qchat-10-Score</th>\n",
       "      <td>0.077110</td>\n",
       "      <td>0.614064</td>\n",
       "      <td>0.592424</td>\n",
       "      <td>0.592885</td>\n",
       "      <td>0.642890</td>\n",
       "      <td>0.649518</td>\n",
       "      <td>0.659377</td>\n",
       "      <td>0.619053</td>\n",
       "      <td>0.543229</td>\n",
       "      <td>0.671638</td>\n",
       "      <td>0.290145</td>\n",
       "      <td>0.000849</td>\n",
       "      <td>1.000000</td>\n",
       "      <td>0.112853</td>\n",
       "      <td>0.029155</td>\n",
       "      <td>0.008762</td>\n",
       "      <td>0.810423</td>\n",
       "    </tr>\n",
       "    <tr>\n",
       "      <th>Sex</th>\n",
       "      <td>0.066949</td>\n",
       "      <td>0.111508</td>\n",
       "      <td>0.067086</td>\n",
       "      <td>0.063299</td>\n",
       "      <td>0.105087</td>\n",
       "      <td>0.129724</td>\n",
       "      <td>0.025144</td>\n",
       "      <td>0.044680</td>\n",
       "      <td>0.076609</td>\n",
       "      <td>0.087463</td>\n",
       "      <td>-0.050145</td>\n",
       "      <td>0.128840</td>\n",
       "      <td>0.112853</td>\n",
       "      <td>1.000000</td>\n",
       "      <td>0.037840</td>\n",
       "      <td>0.058686</td>\n",
       "      <td>0.117664</td>\n",
       "    </tr>\n",
       "    <tr>\n",
       "      <th>Jaundice</th>\n",
       "      <td>-0.002757</td>\n",
       "      <td>-0.005613</td>\n",
       "      <td>0.046039</td>\n",
       "      <td>-0.006874</td>\n",
       "      <td>0.027464</td>\n",
       "      <td>0.025135</td>\n",
       "      <td>-0.004882</td>\n",
       "      <td>0.048327</td>\n",
       "      <td>0.003202</td>\n",
       "      <td>0.012801</td>\n",
       "      <td>0.026521</td>\n",
       "      <td>-0.042372</td>\n",
       "      <td>0.029155</td>\n",
       "      <td>0.037840</td>\n",
       "      <td>1.000000</td>\n",
       "      <td>0.078427</td>\n",
       "      <td>0.074060</td>\n",
       "    </tr>\n",
       "    <tr>\n",
       "      <th>Family_mem_with_ASD</th>\n",
       "      <td>-0.013243</td>\n",
       "      <td>0.053020</td>\n",
       "      <td>0.034800</td>\n",
       "      <td>0.040913</td>\n",
       "      <td>-0.036625</td>\n",
       "      <td>-0.021662</td>\n",
       "      <td>0.046654</td>\n",
       "      <td>-0.024248</td>\n",
       "      <td>-0.036569</td>\n",
       "      <td>-0.011486</td>\n",
       "      <td>0.006927</td>\n",
       "      <td>0.032851</td>\n",
       "      <td>0.008762</td>\n",
       "      <td>0.058686</td>\n",
       "      <td>0.078427</td>\n",
       "      <td>1.000000</td>\n",
       "      <td>-0.013503</td>\n",
       "    </tr>\n",
       "    <tr>\n",
       "      <th>Class/ASD Traits</th>\n",
       "      <td>0.079966</td>\n",
       "      <td>0.503810</td>\n",
       "      <td>0.463467</td>\n",
       "      <td>0.409701</td>\n",
       "      <td>0.505204</td>\n",
       "      <td>0.563297</td>\n",
       "      <td>0.569424</td>\n",
       "      <td>0.563177</td>\n",
       "      <td>0.427155</td>\n",
       "      <td>0.577336</td>\n",
       "      <td>0.179833</td>\n",
       "      <td>0.066831</td>\n",
       "      <td>0.810423</td>\n",
       "      <td>0.117664</td>\n",
       "      <td>0.074060</td>\n",
       "      <td>-0.013503</td>\n",
       "      <td>1.000000</td>\n",
       "    </tr>\n",
       "  </tbody>\n",
       "</table>\n",
       "</div>"
      ],
      "text/plain": [
       "                      Case_No        A1        A2        A3        A4  \\\n",
       "Case_No              1.000000  0.050828 -0.002668  0.082087  0.073426   \n",
       "A1                   0.050828  1.000000  0.463227  0.244362  0.247524   \n",
       "A2                  -0.002668  0.463227  1.000000  0.206927  0.265867   \n",
       "A3                   0.082087  0.244362  0.206927  1.000000  0.547100   \n",
       "A4                   0.073426  0.247524  0.265867  0.547100  1.000000   \n",
       "A5                   0.055263  0.284808  0.259105  0.349086  0.348459   \n",
       "A6                   0.041315  0.373083  0.309461  0.297719  0.347693   \n",
       "A7                   0.087687  0.332705  0.294314  0.211375  0.318546   \n",
       "A8                   0.023916  0.208197  0.251865  0.243758  0.251504   \n",
       "A9                   0.069870  0.322226  0.268784  0.379129  0.427683   \n",
       "A10                 -0.027257  0.130966  0.157498  0.003848  0.016872   \n",
       "Age_Mons             0.027098  0.040508  0.037744 -0.109880 -0.087873   \n",
       "Qchat-10-Score       0.077110  0.614064  0.592424  0.592885  0.642890   \n",
       "Sex                  0.066949  0.111508  0.067086  0.063299  0.105087   \n",
       "Jaundice            -0.002757 -0.005613  0.046039 -0.006874  0.027464   \n",
       "Family_mem_with_ASD -0.013243  0.053020  0.034800  0.040913 -0.036625   \n",
       "Class/ASD Traits     0.079966  0.503810  0.463467  0.409701  0.505204   \n",
       "\n",
       "                           A5        A6        A7        A8        A9  \\\n",
       "Case_No              0.055263  0.041315  0.087687  0.023916  0.069870   \n",
       "A1                   0.284808  0.373083  0.332705  0.208197  0.322226   \n",
       "A2                   0.259105  0.309461  0.294314  0.251865  0.268784   \n",
       "A3                   0.349086  0.297719  0.211375  0.243758  0.379129   \n",
       "A4                   0.348459  0.347693  0.318546  0.251504  0.427683   \n",
       "A5                   1.000000  0.415309  0.348913  0.316661  0.441892   \n",
       "A6                   0.415309  1.000000  0.361758  0.280556  0.416213   \n",
       "A7                   0.348913  0.361758  1.000000  0.257228  0.360686   \n",
       "A8                   0.316661  0.280556  0.257228  1.000000  0.293457   \n",
       "A9                   0.441892  0.416213  0.360686  0.293457  1.000000   \n",
       "A10                  0.045347  0.072162  0.175114  0.082004  0.028710   \n",
       "Age_Mons             0.018448  0.065907  0.021442  0.080505 -0.048650   \n",
       "Qchat-10-Score       0.649518  0.659377  0.619053  0.543229  0.671638   \n",
       "Sex                  0.129724  0.025144  0.044680  0.076609  0.087463   \n",
       "Jaundice             0.025135 -0.004882  0.048327  0.003202  0.012801   \n",
       "Family_mem_with_ASD -0.021662  0.046654 -0.024248 -0.036569 -0.011486   \n",
       "Class/ASD Traits     0.563297  0.569424  0.563177  0.427155  0.577336   \n",
       "\n",
       "                          A10  Age_Mons  Qchat-10-Score       Sex  Jaundice  \\\n",
       "Case_No             -0.027257  0.027098        0.077110  0.066949 -0.002757   \n",
       "A1                   0.130966  0.040508        0.614064  0.111508 -0.005613   \n",
       "A2                   0.157498  0.037744        0.592424  0.067086  0.046039   \n",
       "A3                   0.003848 -0.109880        0.592885  0.063299 -0.006874   \n",
       "A4                   0.016872 -0.087873        0.642890  0.105087  0.027464   \n",
       "A5                   0.045347  0.018448        0.649518  0.129724  0.025135   \n",
       "A6                   0.072162  0.065907        0.659377  0.025144 -0.004882   \n",
       "A7                   0.175114  0.021442        0.619053  0.044680  0.048327   \n",
       "A8                   0.082004  0.080505        0.543229  0.076609  0.003202   \n",
       "A9                   0.028710 -0.048650        0.671638  0.087463  0.012801   \n",
       "A10                  1.000000 -0.013021        0.290145 -0.050145  0.026521   \n",
       "Age_Mons            -0.013021  1.000000        0.000849  0.128840 -0.042372   \n",
       "Qchat-10-Score       0.290145  0.000849        1.000000  0.112853  0.029155   \n",
       "Sex                 -0.050145  0.128840        0.112853  1.000000  0.037840   \n",
       "Jaundice             0.026521 -0.042372        0.029155  0.037840  1.000000   \n",
       "Family_mem_with_ASD  0.006927  0.032851        0.008762  0.058686  0.078427   \n",
       "Class/ASD Traits     0.179833  0.066831        0.810423  0.117664  0.074060   \n",
       "\n",
       "                     Family_mem_with_ASD  Class/ASD Traits   \n",
       "Case_No                        -0.013243           0.079966  \n",
       "A1                              0.053020           0.503810  \n",
       "A2                              0.034800           0.463467  \n",
       "A3                              0.040913           0.409701  \n",
       "A4                             -0.036625           0.505204  \n",
       "A5                             -0.021662           0.563297  \n",
       "A6                              0.046654           0.569424  \n",
       "A7                             -0.024248           0.563177  \n",
       "A8                             -0.036569           0.427155  \n",
       "A9                             -0.011486           0.577336  \n",
       "A10                             0.006927           0.179833  \n",
       "Age_Mons                        0.032851           0.066831  \n",
       "Qchat-10-Score                  0.008762           0.810423  \n",
       "Sex                             0.058686           0.117664  \n",
       "Jaundice                        0.078427           0.074060  \n",
       "Family_mem_with_ASD             1.000000          -0.013503  \n",
       "Class/ASD Traits               -0.013503           1.000000  "
      ]
     },
     "execution_count": 27,
     "metadata": {},
     "output_type": "execute_result"
    }
   ],
   "source": [
    "v.select_dtypes(include='number').corr()"
   ]
  },
  {
   "cell_type": "code",
   "execution_count": 28,
   "id": "8143c7b5",
   "metadata": {
    "execution": {
     "iopub.execute_input": "2025-09-25T11:49:53.375664Z",
     "iopub.status.busy": "2025-09-25T11:49:53.375371Z",
     "iopub.status.idle": "2025-09-25T11:49:54.196212Z",
     "shell.execute_reply": "2025-09-25T11:49:54.195194Z"
    },
    "papermill": {
     "duration": 0.845551,
     "end_time": "2025-09-25T11:49:54.200891",
     "exception": false,
     "start_time": "2025-09-25T11:49:53.355340",
     "status": "completed"
    },
    "tags": []
   },
   "outputs": [
    {
     "data": {
      "image/png": "[encoded data removed]",
      "text/plain": [
       "<Figure size 800x600 with 2 Axes>"
      ]
     },
     "metadata": {},
     "output_type": "display_data"
    }
   ],
   "source": [
    "import seaborn as sns\n",
    "import matplotlib.pyplot as plt\n",
    "\n",
    "# Numeric columns ka correlation matrix\n",
    "corr_matrix = v.select_dtypes(include='number').corr()\n",
    "\n",
    "# Plot heatmap\n",
    "plt.figure(figsize=(8,6))\n",
    "sns.heatmap(corr_matrix, annot=True, fmt=\".2f\", cmap=\"coolwarm\", cbar=True)\n",
    "plt.title(\"Correlation Heatmap of Numeric Columns\")\n",
    "plt.show()\n"
   ]
  },
  {
   "cell_type": "code",
   "execution_count": 29,
   "id": "de57963e",
   "metadata": {
    "execution": {
     "iopub.execute_input": "2025-09-25T11:49:54.251568Z",
     "iopub.status.busy": "2025-09-25T11:49:54.251204Z",
     "iopub.status.idle": "2025-09-25T11:49:54.515121Z",
     "shell.execute_reply": "2025-09-25T11:49:54.514068Z"
    },
    "papermill": {
     "duration": 0.291501,
     "end_time": "2025-09-25T11:49:54.516568",
     "exception": false,
     "start_time": "2025-09-25T11:49:54.225067",
     "status": "completed"
    },
    "tags": []
   },
   "outputs": [
    {
     "name": "stdout",
     "output_type": "stream",
     "text": [
      "Qchat-10 Score vs ASD Traits Relation:\n",
      "Class/ASD Traits    0    1\n",
      "Qchat-10-Score            \n",
      "0                  54    0\n",
      "1                  88    0\n",
      "2                  88    0\n",
      "3                  96    0\n",
      "4                   0  110\n",
      "5                   0  120\n",
      "6                   0   96\n",
      "7                   0  135\n",
      "8                   0   97\n",
      "9                   0   95\n",
      "10                  0   75\n"
     ]
    },
    {
     "data": {
      "image/png": "[encoded data removed]",
      "text/plain": [
       "<Figure size 1000x600 with 1 Axes>"
      ]
     },
     "metadata": {},
     "output_type": "display_data"
    }
   ],
   "source": [
    "import matplotlib.pyplot as plt\n",
    "\n",
    "# Relation table: har score pe ASD=0 aur ASD=1 count\n",
    "score_relation = v.groupby([\"Qchat-10-Score\", \"Class/ASD Traits \"]).size().unstack(fill_value=0)\n",
    "\n",
    "print(\"Qchat-10 Score vs ASD Traits Relation:\")\n",
    "print(score_relation)\n",
    "\n",
    "# Plot stacked bar chart\n",
    "score_relation.plot(kind=\"bar\", stacked=True, figsize=(10,6), colormap=\"coolwarm\")\n",
    "\n",
    "plt.title(\"Qchat-10 Score vs ASD Traits\")\n",
    "plt.xlabel(\"Qchat-10 Score\")\n",
    "plt.ylabel(\"Number of Children\")\n",
    "plt.legend(title=\"ASD Traits\", labels=[\"No ASD (0)\", \"ASD (1)\"])\n",
    "plt.show()\n"
   ]
  },
  {
   "cell_type": "markdown",
   "id": "18278025",
   "metadata": {
    "papermill": {
     "duration": 0.023779,
     "end_time": "2025-09-25T11:49:54.565813",
     "exception": false,
     "start_time": "2025-09-25T11:49:54.542034",
     "status": "completed"
    },
    "tags": []
   },
   "source": [
    "**finding out how much questions has strong correlaion with class asd traits**"
   ]
  },
  {
   "cell_type": "code",
   "execution_count": 30,
   "id": "e70046b5",
   "metadata": {
    "execution": {
     "iopub.execute_input": "2025-09-25T11:49:54.617765Z",
     "iopub.status.busy": "2025-09-25T11:49:54.616772Z",
     "iopub.status.idle": "2025-09-25T11:49:54.626717Z",
     "shell.execute_reply": "2025-09-25T11:49:54.625395Z"
    },
    "papermill": {
     "duration": 0.038326,
     "end_time": "2025-09-25T11:49:54.628630",
     "exception": false,
     "start_time": "2025-09-25T11:49:54.590304",
     "status": "completed"
    },
    "tags": []
   },
   "outputs": [
    {
     "name": "stdout",
     "output_type": "stream",
     "text": [
      "Correlation of each question with ASD Traits:\n",
      "A1     0.503810\n",
      "A2     0.463467\n",
      "A3     0.409701\n",
      "A4     0.505204\n",
      "A5     0.563297\n",
      "A6     0.569424\n",
      "A7     0.563177\n",
      "A8     0.427155\n",
      "A9     0.577336\n",
      "A10    0.179833\n",
      "Name: Class/ASD Traits , dtype: float64\n"
     ]
    }
   ],
   "source": [
    "# giving features ...\n",
    "features = [\"A1\",\"A2\",\"A3\",\"A4\",\"A5\",\"A6\",\"A7\",\"A8\",\"A9\",\"A10\"]\n",
    "\n",
    "# Correlation with Class/ASD Traits\n",
    "corr_with_target = v[features + [\"Class/ASD Traits \"]].corr()[\"Class/ASD Traits \"].drop(\"Class/ASD Traits \")\n",
    "\n",
    "print(\"Correlation of each question with ASD Traits:\")\n",
    "print(corr_with_target)\n",
    "\n",
    "# here each questions having strong correlation with asd traits \n",
    "#  but  question a9 has most strong correlation ....\n"
   ]
  },
  {
   "cell_type": "code",
   "execution_count": 31,
   "id": "1f3d801f",
   "metadata": {
    "execution": {
     "iopub.execute_input": "2025-09-25T11:49:54.678765Z",
     "iopub.status.busy": "2025-09-25T11:49:54.677777Z",
     "iopub.status.idle": "2025-09-25T11:49:54.692793Z",
     "shell.execute_reply": "2025-09-25T11:49:54.691346Z"
    },
    "papermill": {
     "duration": 0.041815,
     "end_time": "2025-09-25T11:49:54.694567",
     "exception": false,
     "start_time": "2025-09-25T11:49:54.652752",
     "status": "completed"
    },
    "tags": []
   },
   "outputs": [
    {
     "name": "stdout",
     "output_type": "stream",
     "text": [
      "Probability of ASD Traits if question answered Yes:\n",
      "A1: 0.90\n",
      "A2: 0.93\n",
      "A3: 0.92\n",
      "A4: 0.92\n",
      "A5: 0.94\n",
      "A6: 0.92\n",
      "A7: 0.88\n",
      "A8: 0.90\n",
      "A9: 0.96\n",
      "A10: 0.76\n"
     ]
    }
   ],
   "source": [
    "features = [\"A1\",\"A2\",\"A3\",\"A4\",\"A5\",\"A6\",\"A7\",\"A8\",\"A9\",\"A10\"]\n",
    "\n",
    "impact = {}\n",
    "for q in features:\n",
    "    # Jab question = 1 (Yes), ASD Traits ka average\n",
    "    impact[q] = v[v[q] == 1][\"Class/ASD Traits \"].mean()\n",
    "\n",
    "print(\"Probability of ASD Traits if question answered Yes:\")\n",
    "for k, v_ in impact.items():\n",
    "    print(f\"{k}: {v_:.2f}\")\n",
    "\n",
    "\n",
    "\n",
    "\n",
    "\n",
    "\n",
    "#      by this analysis if question 9 is answered . then strong \n",
    "#             possibility for having the  asd traits.\n",
    "\n",
    "                   # A9 question\n",
    "\n",
    "#   Does your child use simple gestures? (e.g. wave goodbye)\n",
    "\n"
   ]
  },
  {
   "cell_type": "code",
   "execution_count": null,
   "id": "607cd053",
   "metadata": {
    "papermill": {
     "duration": 0.02379,
     "end_time": "2025-09-25T11:49:54.742309",
     "exception": false,
     "start_time": "2025-09-25T11:49:54.718519",
     "status": "completed"
    },
    "tags": []
   },
   "outputs": [],
   "source": []
  },
  {
   "cell_type": "markdown",
   "id": "6997f2c7",
   "metadata": {
    "papermill": {
     "duration": 0.024788,
     "end_time": "2025-09-25T11:49:54.790887",
     "exception": false,
     "start_time": "2025-09-25T11:49:54.766099",
     "status": "completed"
    },
    "tags": []
   },
   "source": [
    "question A1:\n",
    "       Does your child look at you when you call his/her name?\n",
    "\n",
    "\n",
    "question A5 :\n",
    "       Does your child pretend? (e.g. care for dolls, talk on a toy phone)\n",
    "\n",
    "question A6 : \n",
    "      Does your child follow where you’re looking?\n",
    "\n",
    "question A7:\n",
    "     If you or someone else in the family is visibly upset, does your child show    signs of wan9ng to comfort them? (e.g. stroking hair, hugging them)\n"
   ]
  },
  {
   "cell_type": "code",
   "execution_count": 32,
   "id": "777ff221",
   "metadata": {
    "execution": {
     "iopub.execute_input": "2025-09-25T11:49:54.843116Z",
     "iopub.status.busy": "2025-09-25T11:49:54.842792Z",
     "iopub.status.idle": "2025-09-25T11:49:55.047844Z",
     "shell.execute_reply": "2025-09-25T11:49:55.046792Z"
    },
    "papermill": {
     "duration": 0.23297,
     "end_time": "2025-09-25T11:49:55.049827",
     "exception": false,
     "start_time": "2025-09-25T11:49:54.816857",
     "status": "completed"
    },
    "tags": []
   },
   "outputs": [
    {
     "name": "stdout",
     "output_type": "stream",
     "text": [
      "A7     64.990512\n",
      "A10    58.633776\n",
      "A6     57.685009\n",
      "A1     56.356736\n",
      "A5     52.466793\n",
      "A4     51.233397\n",
      "A9     48.956357\n",
      "A8     45.920304\n",
      "A2     44.876660\n",
      "A3     40.132827\n",
      "dtype: float64\n"
     ]
    },
    {
     "data": {
      "image/png": "[encoded data removed]",
      "text/plain": [
       "<Figure size 1000x600 with 1 Axes>"
      ]
     },
     "metadata": {},
     "output_type": "display_data"
    }
   ],
   "source": [
    "# Suppose A1–A10 questions hai\n",
    "questions = [\"A1\", \"A2\", \"A3\", \"A4\", \"A5\", \"A6\", \"A7\", \"A8\", \"A9\", \"A10\"]\n",
    "\n",
    "# Percentage of Yes (1) per question\n",
    "yes_percentage = (v[questions] == 1).mean() * 100  # 1 = Yes\n",
    "\n",
    "# Sort descending to see which question mostly Yes\n",
    "yes_percentage = yes_percentage.sort_values(ascending=False)\n",
    "print(yes_percentage)\n",
    "\n",
    "# Optional: plot\n",
    "import matplotlib.pyplot as plt\n",
    "plt.figure(figsize=(10,6))\n",
    "yes_percentage.plot(kind=\"bar\", color=\"skyblue\")\n",
    "plt.ylabel(\"Percentage of Yes\")\n",
    "plt.title(\"Which Questions Mostly Answered Yes\")\n",
    "plt.show()\n",
    "\n",
    "# here we can say A7 is mostly answered yes almost 65 percent\n",
    "            \n",
    "\n",
    "#                       question A7: \n",
    "\n",
    "#          If you or someone else in the family is visibly upset\n",
    "#        does your child show signs of wan9ng to comfort them?\n",
    "#         (e.g. stroking hair, hugging them)"
   ]
  },
  {
   "cell_type": "code",
   "execution_count": 33,
   "id": "6448cdc6",
   "metadata": {
    "execution": {
     "iopub.execute_input": "2025-09-25T11:49:55.101913Z",
     "iopub.status.busy": "2025-09-25T11:49:55.100865Z",
     "iopub.status.idle": "2025-09-25T11:49:55.346807Z",
     "shell.execute_reply": "2025-09-25T11:49:55.345789Z"
    },
    "papermill": {
     "duration": 0.274019,
     "end_time": "2025-09-25T11:49:55.348462",
     "exception": false,
     "start_time": "2025-09-25T11:49:55.074443",
     "status": "completed"
    },
    "tags": []
   },
   "outputs": [
    {
     "data": {
      "image/png": "[encoded data removed]",
      "text/plain": [
       "<Figure size 800x600 with 1 Axes>"
      ]
     },
     "metadata": {},
     "output_type": "display_data"
    }
   ],
   "source": [
    "import matplotlib.pyplot as plt\n",
    "\n",
    "score_relation = v.groupby([\"Qchat-10-Score\",\"Class/ASD Traits \"]).size().unstack(fill_value=0)\n",
    "\n",
    "score_relation.plot(kind=\"bar\", stacked=True, figsize=(8,6), color=[\"skyblue\",\"salmon\"])\n",
    "plt.title(\"Qchat-10 Score vs ASD Traits \")\n",
    "plt.xlabel(\"Qchat-10 Score\")\n",
    "plt.ylabel(\"Count of Children\")\n",
    "plt.legend([\"ASD = 0 (No)\", \"ASD = 1 (Yes)\"])\n",
    "plt.show()\n"
   ]
  },
  {
   "cell_type": "markdown",
   "id": "d49aa486",
   "metadata": {
    "papermill": {
     "duration": 0.024707,
     "end_time": "2025-09-25T11:49:55.398109",
     "exception": false,
     "start_time": "2025-09-25T11:49:55.373402",
     "status": "completed"
    },
    "tags": []
   },
   "source": [
    "**those kids who got 4 or more  than 4 ..they are 728 in numbers**"
   ]
  },
  {
   "cell_type": "code",
   "execution_count": 34,
   "id": "5a433b30",
   "metadata": {
    "execution": {
     "iopub.execute_input": "2025-09-25T11:49:55.449243Z",
     "iopub.status.busy": "2025-09-25T11:49:55.448909Z",
     "iopub.status.idle": "2025-09-25T11:49:55.455519Z",
     "shell.execute_reply": "2025-09-25T11:49:55.454435Z"
    },
    "papermill": {
     "duration": 0.034162,
     "end_time": "2025-09-25T11:49:55.457114",
     "exception": false,
     "start_time": "2025-09-25T11:49:55.422952",
     "status": "completed"
    },
    "tags": []
   },
   "outputs": [
    {
     "name": "stdout",
     "output_type": "stream",
     "text": [
      "Total kids with score >= 4: 728\n"
     ]
    }
   ],
   "source": [
    "# 4 se upar wale scores filter karo\n",
    "above_4 = score_relation.loc[score_relation.index >= 4].sum().sum()\n",
    "\n",
    "print(\"Total kids with score >= 4:\", above_4)\n"
   ]
  },
  {
   "cell_type": "markdown",
   "id": "17f4408a",
   "metadata": {
    "papermill": {
     "duration": 0.024806,
     "end_time": "2025-09-25T11:49:55.507100",
     "exception": false,
     "start_time": "2025-09-25T11:49:55.482294",
     "status": "completed"
    },
    "tags": []
   },
   "source": [
    "**kids who got 4 or more than 4 ...they have the signs of autism traits and 70** **percent got 4 or more than 4 and that all have autism traits**"
   ]
  },
  {
   "cell_type": "code",
   "execution_count": 35,
   "id": "7d3efc15",
   "metadata": {
    "execution": {
     "iopub.execute_input": "2025-09-25T11:49:55.559123Z",
     "iopub.status.busy": "2025-09-25T11:49:55.558253Z",
     "iopub.status.idle": "2025-09-25T11:49:55.664562Z",
     "shell.execute_reply": "2025-09-25T11:49:55.663222Z"
    },
    "papermill": {
     "duration": 0.134297,
     "end_time": "2025-09-25T11:49:55.666374",
     "exception": false,
     "start_time": "2025-09-25T11:49:55.532077",
     "status": "completed"
    },
    "tags": []
   },
   "outputs": [
    {
     "data": {
      "image/png": "[encoded data removed]",
      "text/plain": [
       "<Figure size 600x600 with 1 Axes>"
      ]
     },
     "metadata": {},
     "output_type": "display_data"
    }
   ],
   "source": [
    "import matplotlib.pyplot as plt\n",
    "\n",
    "# Data\n",
    "sizes = [326, 728]\n",
    "labels = [\"ASD = 0 (Score ≤ 3)\", \"ASD = 1 (Score ≥ 4)\"]\n",
    "colors = [\"skyblue\", \"salmon\"]\n",
    "\n",
    "# Plot\n",
    "plt.figure(figsize=(6,6))\n",
    "plt.pie(sizes, labels=labels, autopct=\"%.1f%%\", startangle=90, colors=colors, wedgeprops={'edgecolor':'black'})\n",
    "plt.title(\"ASD Traits Distribution (Based on Qchat-10 Score)\")\n",
    "plt.show()\n"
   ]
  },
  {
   "cell_type": "code",
   "execution_count": 36,
   "id": "80b31a8f",
   "metadata": {
    "execution": {
     "iopub.execute_input": "2025-09-25T11:49:55.721602Z",
     "iopub.status.busy": "2025-09-25T11:49:55.720986Z",
     "iopub.status.idle": "2025-09-25T11:49:55.906710Z",
     "shell.execute_reply": "2025-09-25T11:49:55.905674Z"
    },
    "papermill": {
     "duration": 0.215154,
     "end_time": "2025-09-25T11:49:55.908433",
     "exception": false,
     "start_time": "2025-09-25T11:49:55.693279",
     "status": "completed"
    },
    "tags": []
   },
   "outputs": [
    {
     "data": {
      "image/png": "[encoded data removed]",
      "text/plain": [
       "<Figure size 1200x600 with 2 Axes>"
      ]
     },
     "metadata": {},
     "output_type": "display_data"
    }
   ],
   "source": [
    "\n",
    "import matplotlib.pyplot as plt\n",
    "\n",
    "# Data for first chart\n",
    "sizes = [326, 728]\n",
    "labels1 = [\"ASD = 0 (Score ≤ 3)\", \"ASD = 1 (Score ≥ 4)\"]\n",
    "colors1 = [\"skyblue\", \"salmon\"]\n",
    "\n",
    "# Data for second chart (from v dataframe)\n",
    "counts = v[\"Class/ASD Traits \"].value_counts(normalize=True) * 100\n",
    "counts.index = counts.index.map({0: \"Non-ASD\", 1: \"ASD\"})\n",
    "labels2 = counts.index\n",
    "sizes2 = counts.values\n",
    "colors2 = [\"lightgreen\",\"skyblue\"]\n",
    "\n",
    "# Plot side by side\n",
    "plt.figure(figsize=(12,6))\n",
    "\n",
    "# First pie chart\n",
    "plt.subplot(1,2,1)\n",
    "plt.pie(sizes, labels=labels1, autopct=\"%.1f%%\", startangle=90, colors=colors1, wedgeprops={'edgecolor':'black'})\n",
    "plt.title(\"ASD Traits Distribution (Based on Qchat-10 Score)\")\n",
    "\n",
    "# Second pie chart\n",
    "plt.subplot(1,2,2)\n",
    "plt.pie(sizes2, labels=labels2, autopct=\"%.1f%%\", startangle=90, colors=colors2, wedgeprops={'edgecolor':'black'})\n",
    "plt.title(\"ASD vs Non-ASD Percentage (From Data)\")\n",
    "\n",
    "plt.show()"
   ]
  },
  {
   "cell_type": "markdown",
   "id": "f4de8c8e",
   "metadata": {
    "papermill": {
     "duration": 0.028015,
     "end_time": "2025-09-25T11:49:55.965713",
     "exception": false,
     "start_time": "2025-09-25T11:49:55.937698",
     "status": "completed"
    },
    "tags": []
   },
   "source": [
    "# Feature engineering"
   ]
  },
  {
   "cell_type": "code",
   "execution_count": 37,
   "id": "a2933b5b",
   "metadata": {
    "execution": {
     "iopub.execute_input": "2025-09-25T11:49:56.025594Z",
     "iopub.status.busy": "2025-09-25T11:49:56.024296Z",
     "iopub.status.idle": "2025-09-25T11:49:56.031427Z",
     "shell.execute_reply": "2025-09-25T11:49:56.030408Z"
    },
    "papermill": {
     "duration": 0.03919,
     "end_time": "2025-09-25T11:49:56.033308",
     "exception": false,
     "start_time": "2025-09-25T11:49:55.994118",
     "status": "completed"
    },
    "tags": []
   },
   "outputs": [],
   "source": [
    "corr = v.corr()[\"Class/ASD Traits \"] "
   ]
  },
  {
   "cell_type": "markdown",
   "id": "7c03c9a9",
   "metadata": {
    "papermill": {
     "duration": 0.026513,
     "end_time": "2025-09-25T11:49:56.086982",
     "exception": false,
     "start_time": "2025-09-25T11:49:56.060469",
     "status": "completed"
    },
    "tags": []
   },
   "source": [
    "By this correlation we can observe that :\n",
    "# Family_mem_with_ASD \n",
    "#"
   ]
  },
  {
   "cell_type": "code",
   "execution_count": 38,
   "id": "19c9cb7e",
   "metadata": {
    "execution": {
     "iopub.execute_input": "2025-09-25T11:49:56.143965Z",
     "iopub.status.busy": "2025-09-25T11:49:56.142621Z",
     "iopub.status.idle": "2025-09-25T11:49:56.150854Z",
     "shell.execute_reply": "2025-09-25T11:49:56.149763Z"
    },
    "papermill": {
     "duration": 0.038302,
     "end_time": "2025-09-25T11:49:56.152372",
     "exception": false,
     "start_time": "2025-09-25T11:49:56.114070",
     "status": "completed"
    },
    "tags": []
   },
   "outputs": [
    {
     "data": {
      "text/plain": [
       "Case_No                0.079966\n",
       "A1                     0.503810\n",
       "A2                     0.463467\n",
       "A3                     0.409701\n",
       "A4                     0.505204\n",
       "A5                     0.563297\n",
       "A6                     0.569424\n",
       "A7                     0.563177\n",
       "A8                     0.427155\n",
       "A9                     0.577336\n",
       "A10                    0.179833\n",
       "Age_Mons               0.066831\n",
       "Qchat-10-Score         0.810423\n",
       "Sex                    0.117664\n",
       "Jaundice               0.074060\n",
       "Family_mem_with_ASD   -0.013503\n",
       "Class/ASD Traits       1.000000\n",
       "Name: Class/ASD Traits , dtype: float64"
      ]
     },
     "execution_count": 38,
     "metadata": {},
     "output_type": "execute_result"
    }
   ],
   "source": [
    "corr"
   ]
  },
  {
   "cell_type": "markdown",
   "id": "f4a39ba5",
   "metadata": {
    "papermill": {
     "duration": 0.026303,
     "end_time": "2025-09-25T11:49:56.205814",
     "exception": false,
     "start_time": "2025-09-25T11:49:56.179511",
     "status": "completed"
    },
    "tags": []
   },
   "source": [
    "**By this correlation we can observe that** :\n",
    "# Family_men_with_ASD \n",
    "# case number\n",
    "# Jaundice \n",
    "# Age moms \n",
    "**has very weak correlation** .\n",
    "**so what we  do is to drop these features**\n",
    "**because if we does not drop**\n",
    "\n",
    "**1. model will try to find out unnecessary pattern**\n",
    "**2. model will be overfiited**\n",
    "**3. may create noise and model may divert**"
   ]
  },
  {
   "cell_type": "markdown",
   "id": "ef540ce5",
   "metadata": {
    "papermill": {
     "duration": 0.027475,
     "end_time": "2025-09-25T11:49:56.260549",
     "exception": false,
     "start_time": "2025-09-25T11:49:56.233074",
     "status": "completed"
    },
    "tags": []
   },
   "source": [
    "**Lets drop these irrelevent features**"
   ]
  },
  {
   "cell_type": "code",
   "execution_count": 39,
   "id": "41042274",
   "metadata": {
    "execution": {
     "iopub.execute_input": "2025-09-25T11:49:56.317290Z",
     "iopub.status.busy": "2025-09-25T11:49:56.316957Z",
     "iopub.status.idle": "2025-09-25T11:49:56.323659Z",
     "shell.execute_reply": "2025-09-25T11:49:56.322511Z"
    },
    "papermill": {
     "duration": 0.037428,
     "end_time": "2025-09-25T11:49:56.325494",
     "exception": false,
     "start_time": "2025-09-25T11:49:56.288066",
     "status": "completed"
    },
    "tags": []
   },
   "outputs": [],
   "source": [
    "\n",
    "v_new = v.drop([\"Case_No\" , \"Jaundice\" , \"Family_mem_with_ASD\" , \"Age_Mons\"] , axis = 1)"
   ]
  },
  {
   "cell_type": "code",
   "execution_count": 40,
   "id": "c4e14a9c",
   "metadata": {
    "execution": {
     "iopub.execute_input": "2025-09-25T11:49:56.383528Z",
     "iopub.status.busy": "2025-09-25T11:49:56.383183Z",
     "iopub.status.idle": "2025-09-25T11:49:56.398520Z",
     "shell.execute_reply": "2025-09-25T11:49:56.397478Z"
    },
    "papermill": {
     "duration": 0.046007,
     "end_time": "2025-09-25T11:49:56.400184",
     "exception": false,
     "start_time": "2025-09-25T11:49:56.354177",
     "status": "completed"
    },
    "tags": []
   },
   "outputs": [
    {
     "data": {
      "text/html": [
       "<div>\n",
       "<style scoped>\n",
       "    .dataframe tbody tr th:only-of-type {\n",
       "        vertical-align: middle;\n",
       "    }\n",
       "\n",
       "    .dataframe tbody tr th {\n",
       "        vertical-align: top;\n",
       "    }\n",
       "\n",
       "    .dataframe thead th {\n",
       "        text-align: right;\n",
       "    }\n",
       "</style>\n",
       "<table border=\"1\" class=\"dataframe\">\n",
       "  <thead>\n",
       "    <tr style=\"text-align: right;\">\n",
       "      <th></th>\n",
       "      <th>A1</th>\n",
       "      <th>A2</th>\n",
       "      <th>A3</th>\n",
       "      <th>A4</th>\n",
       "      <th>A5</th>\n",
       "      <th>A6</th>\n",
       "      <th>A7</th>\n",
       "      <th>A8</th>\n",
       "      <th>A9</th>\n",
       "      <th>A10</th>\n",
       "      <th>Qchat-10-Score</th>\n",
       "      <th>Sex</th>\n",
       "      <th>Class/ASD Traits</th>\n",
       "    </tr>\n",
       "  </thead>\n",
       "  <tbody>\n",
       "    <tr>\n",
       "      <th>0</th>\n",
       "      <td>0</td>\n",
       "      <td>0</td>\n",
       "      <td>0</td>\n",
       "      <td>0</td>\n",
       "      <td>0</td>\n",
       "      <td>0</td>\n",
       "      <td>1</td>\n",
       "      <td>1</td>\n",
       "      <td>0</td>\n",
       "      <td>1</td>\n",
       "      <td>3</td>\n",
       "      <td>0</td>\n",
       "      <td>0</td>\n",
       "    </tr>\n",
       "    <tr>\n",
       "      <th>1</th>\n",
       "      <td>1</td>\n",
       "      <td>1</td>\n",
       "      <td>0</td>\n",
       "      <td>0</td>\n",
       "      <td>0</td>\n",
       "      <td>1</td>\n",
       "      <td>1</td>\n",
       "      <td>0</td>\n",
       "      <td>0</td>\n",
       "      <td>0</td>\n",
       "      <td>4</td>\n",
       "      <td>1</td>\n",
       "      <td>1</td>\n",
       "    </tr>\n",
       "    <tr>\n",
       "      <th>2</th>\n",
       "      <td>1</td>\n",
       "      <td>0</td>\n",
       "      <td>0</td>\n",
       "      <td>0</td>\n",
       "      <td>0</td>\n",
       "      <td>0</td>\n",
       "      <td>1</td>\n",
       "      <td>1</td>\n",
       "      <td>0</td>\n",
       "      <td>1</td>\n",
       "      <td>4</td>\n",
       "      <td>1</td>\n",
       "      <td>1</td>\n",
       "    </tr>\n",
       "    <tr>\n",
       "      <th>3</th>\n",
       "      <td>1</td>\n",
       "      <td>1</td>\n",
       "      <td>1</td>\n",
       "      <td>1</td>\n",
       "      <td>1</td>\n",
       "      <td>1</td>\n",
       "      <td>1</td>\n",
       "      <td>1</td>\n",
       "      <td>1</td>\n",
       "      <td>1</td>\n",
       "      <td>10</td>\n",
       "      <td>1</td>\n",
       "      <td>1</td>\n",
       "    </tr>\n",
       "    <tr>\n",
       "      <th>4</th>\n",
       "      <td>1</td>\n",
       "      <td>1</td>\n",
       "      <td>0</td>\n",
       "      <td>1</td>\n",
       "      <td>1</td>\n",
       "      <td>1</td>\n",
       "      <td>1</td>\n",
       "      <td>1</td>\n",
       "      <td>1</td>\n",
       "      <td>1</td>\n",
       "      <td>9</td>\n",
       "      <td>0</td>\n",
       "      <td>1</td>\n",
       "    </tr>\n",
       "    <tr>\n",
       "      <th>...</th>\n",
       "      <td>...</td>\n",
       "      <td>...</td>\n",
       "      <td>...</td>\n",
       "      <td>...</td>\n",
       "      <td>...</td>\n",
       "      <td>...</td>\n",
       "      <td>...</td>\n",
       "      <td>...</td>\n",
       "      <td>...</td>\n",
       "      <td>...</td>\n",
       "      <td>...</td>\n",
       "      <td>...</td>\n",
       "      <td>...</td>\n",
       "    </tr>\n",
       "    <tr>\n",
       "      <th>1049</th>\n",
       "      <td>0</td>\n",
       "      <td>0</td>\n",
       "      <td>0</td>\n",
       "      <td>0</td>\n",
       "      <td>0</td>\n",
       "      <td>0</td>\n",
       "      <td>0</td>\n",
       "      <td>0</td>\n",
       "      <td>0</td>\n",
       "      <td>1</td>\n",
       "      <td>1</td>\n",
       "      <td>0</td>\n",
       "      <td>0</td>\n",
       "    </tr>\n",
       "    <tr>\n",
       "      <th>1050</th>\n",
       "      <td>0</td>\n",
       "      <td>0</td>\n",
       "      <td>1</td>\n",
       "      <td>1</td>\n",
       "      <td>1</td>\n",
       "      <td>0</td>\n",
       "      <td>1</td>\n",
       "      <td>0</td>\n",
       "      <td>1</td>\n",
       "      <td>0</td>\n",
       "      <td>5</td>\n",
       "      <td>1</td>\n",
       "      <td>1</td>\n",
       "    </tr>\n",
       "    <tr>\n",
       "      <th>1051</th>\n",
       "      <td>1</td>\n",
       "      <td>0</td>\n",
       "      <td>1</td>\n",
       "      <td>1</td>\n",
       "      <td>1</td>\n",
       "      <td>1</td>\n",
       "      <td>1</td>\n",
       "      <td>1</td>\n",
       "      <td>1</td>\n",
       "      <td>1</td>\n",
       "      <td>9</td>\n",
       "      <td>1</td>\n",
       "      <td>1</td>\n",
       "    </tr>\n",
       "    <tr>\n",
       "      <th>1052</th>\n",
       "      <td>1</td>\n",
       "      <td>0</td>\n",
       "      <td>0</td>\n",
       "      <td>0</td>\n",
       "      <td>0</td>\n",
       "      <td>0</td>\n",
       "      <td>0</td>\n",
       "      <td>1</td>\n",
       "      <td>0</td>\n",
       "      <td>1</td>\n",
       "      <td>3</td>\n",
       "      <td>1</td>\n",
       "      <td>0</td>\n",
       "    </tr>\n",
       "    <tr>\n",
       "      <th>1053</th>\n",
       "      <td>1</td>\n",
       "      <td>1</td>\n",
       "      <td>0</td>\n",
       "      <td>0</td>\n",
       "      <td>1</td>\n",
       "      <td>1</td>\n",
       "      <td>0</td>\n",
       "      <td>1</td>\n",
       "      <td>1</td>\n",
       "      <td>0</td>\n",
       "      <td>6</td>\n",
       "      <td>1</td>\n",
       "      <td>1</td>\n",
       "    </tr>\n",
       "  </tbody>\n",
       "</table>\n",
       "<p>1054 rows × 13 columns</p>\n",
       "</div>"
      ],
      "text/plain": [
       "      A1  A2  A3  A4  A5  A6  A7  A8  A9  A10  Qchat-10-Score  Sex  \\\n",
       "0      0   0   0   0   0   0   1   1   0    1               3    0   \n",
       "1      1   1   0   0   0   1   1   0   0    0               4    1   \n",
       "2      1   0   0   0   0   0   1   1   0    1               4    1   \n",
       "3      1   1   1   1   1   1   1   1   1    1              10    1   \n",
       "4      1   1   0   1   1   1   1   1   1    1               9    0   \n",
       "...   ..  ..  ..  ..  ..  ..  ..  ..  ..  ...             ...  ...   \n",
       "1049   0   0   0   0   0   0   0   0   0    1               1    0   \n",
       "1050   0   0   1   1   1   0   1   0   1    0               5    1   \n",
       "1051   1   0   1   1   1   1   1   1   1    1               9    1   \n",
       "1052   1   0   0   0   0   0   0   1   0    1               3    1   \n",
       "1053   1   1   0   0   1   1   0   1   1    0               6    1   \n",
       "\n",
       "      Class/ASD Traits   \n",
       "0                     0  \n",
       "1                     1  \n",
       "2                     1  \n",
       "3                     1  \n",
       "4                     1  \n",
       "...                 ...  \n",
       "1049                  0  \n",
       "1050                  1  \n",
       "1051                  1  \n",
       "1052                  0  \n",
       "1053                  1  \n",
       "\n",
       "[1054 rows x 13 columns]"
      ]
     },
     "execution_count": 40,
     "metadata": {},
     "output_type": "execute_result"
    }
   ],
   "source": [
    "v_new\n",
    "\n",
    "# our cleaned dataset ...\n",
    "\n",
    "# now we will do train test split for further scaling and \n",
    "# traing the model ..."
   ]
  },
  {
   "cell_type": "markdown",
   "id": "c4330e29",
   "metadata": {
    "papermill": {
     "duration": 0.026666,
     "end_time": "2025-09-25T11:49:56.454562",
     "exception": false,
     "start_time": "2025-09-25T11:49:56.427896",
     "status": "completed"
    },
    "tags": []
   },
   "source": [
    "**features splitting part started**"
   ]
  },
  {
   "cell_type": "code",
   "execution_count": 41,
   "id": "46548db2",
   "metadata": {
    "execution": {
     "iopub.execute_input": "2025-09-25T11:49:56.510426Z",
     "iopub.status.busy": "2025-09-25T11:49:56.510058Z",
     "iopub.status.idle": "2025-09-25T11:49:56.515312Z",
     "shell.execute_reply": "2025-09-25T11:49:56.514508Z"
    },
    "papermill": {
     "duration": 0.034998,
     "end_time": "2025-09-25T11:49:56.516826",
     "exception": false,
     "start_time": "2025-09-25T11:49:56.481828",
     "status": "completed"
    },
    "tags": []
   },
   "outputs": [],
   "source": [
    "# here we are doing splitting\n",
    "# into the inputs columns and outputs columns.\n",
    "\n",
    "x = v_new.iloc[: , 0:12]\n",
    "y = v_new.iloc[: , -1]"
   ]
  },
  {
   "cell_type": "code",
   "execution_count": 42,
   "id": "918e4797",
   "metadata": {
    "execution": {
     "iopub.execute_input": "2025-09-25T11:49:56.574073Z",
     "iopub.status.busy": "2025-09-25T11:49:56.572869Z",
     "iopub.status.idle": "2025-09-25T11:49:56.586577Z",
     "shell.execute_reply": "2025-09-25T11:49:56.585343Z"
    },
    "papermill": {
     "duration": 0.044323,
     "end_time": "2025-09-25T11:49:56.588168",
     "exception": false,
     "start_time": "2025-09-25T11:49:56.543845",
     "status": "completed"
    },
    "tags": []
   },
   "outputs": [
    {
     "data": {
      "text/html": [
       "<div>\n",
       "<style scoped>\n",
       "    .dataframe tbody tr th:only-of-type {\n",
       "        vertical-align: middle;\n",
       "    }\n",
       "\n",
       "    .dataframe tbody tr th {\n",
       "        vertical-align: top;\n",
       "    }\n",
       "\n",
       "    .dataframe thead th {\n",
       "        text-align: right;\n",
       "    }\n",
       "</style>\n",
       "<table border=\"1\" class=\"dataframe\">\n",
       "  <thead>\n",
       "    <tr style=\"text-align: right;\">\n",
       "      <th></th>\n",
       "      <th>A1</th>\n",
       "      <th>A2</th>\n",
       "      <th>A3</th>\n",
       "      <th>A4</th>\n",
       "      <th>A5</th>\n",
       "      <th>A6</th>\n",
       "      <th>A7</th>\n",
       "      <th>A8</th>\n",
       "      <th>A9</th>\n",
       "      <th>A10</th>\n",
       "      <th>Qchat-10-Score</th>\n",
       "      <th>Sex</th>\n",
       "    </tr>\n",
       "  </thead>\n",
       "  <tbody>\n",
       "    <tr>\n",
       "      <th>0</th>\n",
       "      <td>0</td>\n",
       "      <td>0</td>\n",
       "      <td>0</td>\n",
       "      <td>0</td>\n",
       "      <td>0</td>\n",
       "      <td>0</td>\n",
       "      <td>1</td>\n",
       "      <td>1</td>\n",
       "      <td>0</td>\n",
       "      <td>1</td>\n",
       "      <td>3</td>\n",
       "      <td>0</td>\n",
       "    </tr>\n",
       "    <tr>\n",
       "      <th>1</th>\n",
       "      <td>1</td>\n",
       "      <td>1</td>\n",
       "      <td>0</td>\n",
       "      <td>0</td>\n",
       "      <td>0</td>\n",
       "      <td>1</td>\n",
       "      <td>1</td>\n",
       "      <td>0</td>\n",
       "      <td>0</td>\n",
       "      <td>0</td>\n",
       "      <td>4</td>\n",
       "      <td>1</td>\n",
       "    </tr>\n",
       "    <tr>\n",
       "      <th>2</th>\n",
       "      <td>1</td>\n",
       "      <td>0</td>\n",
       "      <td>0</td>\n",
       "      <td>0</td>\n",
       "      <td>0</td>\n",
       "      <td>0</td>\n",
       "      <td>1</td>\n",
       "      <td>1</td>\n",
       "      <td>0</td>\n",
       "      <td>1</td>\n",
       "      <td>4</td>\n",
       "      <td>1</td>\n",
       "    </tr>\n",
       "    <tr>\n",
       "      <th>3</th>\n",
       "      <td>1</td>\n",
       "      <td>1</td>\n",
       "      <td>1</td>\n",
       "      <td>1</td>\n",
       "      <td>1</td>\n",
       "      <td>1</td>\n",
       "      <td>1</td>\n",
       "      <td>1</td>\n",
       "      <td>1</td>\n",
       "      <td>1</td>\n",
       "      <td>10</td>\n",
       "      <td>1</td>\n",
       "    </tr>\n",
       "    <tr>\n",
       "      <th>4</th>\n",
       "      <td>1</td>\n",
       "      <td>1</td>\n",
       "      <td>0</td>\n",
       "      <td>1</td>\n",
       "      <td>1</td>\n",
       "      <td>1</td>\n",
       "      <td>1</td>\n",
       "      <td>1</td>\n",
       "      <td>1</td>\n",
       "      <td>1</td>\n",
       "      <td>9</td>\n",
       "      <td>0</td>\n",
       "    </tr>\n",
       "    <tr>\n",
       "      <th>...</th>\n",
       "      <td>...</td>\n",
       "      <td>...</td>\n",
       "      <td>...</td>\n",
       "      <td>...</td>\n",
       "      <td>...</td>\n",
       "      <td>...</td>\n",
       "      <td>...</td>\n",
       "      <td>...</td>\n",
       "      <td>...</td>\n",
       "      <td>...</td>\n",
       "      <td>...</td>\n",
       "      <td>...</td>\n",
       "    </tr>\n",
       "    <tr>\n",
       "      <th>1049</th>\n",
       "      <td>0</td>\n",
       "      <td>0</td>\n",
       "      <td>0</td>\n",
       "      <td>0</td>\n",
       "      <td>0</td>\n",
       "      <td>0</td>\n",
       "      <td>0</td>\n",
       "      <td>0</td>\n",
       "      <td>0</td>\n",
       "      <td>1</td>\n",
       "      <td>1</td>\n",
       "      <td>0</td>\n",
       "    </tr>\n",
       "    <tr>\n",
       "      <th>1050</th>\n",
       "      <td>0</td>\n",
       "      <td>0</td>\n",
       "      <td>1</td>\n",
       "      <td>1</td>\n",
       "      <td>1</td>\n",
       "      <td>0</td>\n",
       "      <td>1</td>\n",
       "      <td>0</td>\n",
       "      <td>1</td>\n",
       "      <td>0</td>\n",
       "      <td>5</td>\n",
       "      <td>1</td>\n",
       "    </tr>\n",
       "    <tr>\n",
       "      <th>1051</th>\n",
       "      <td>1</td>\n",
       "      <td>0</td>\n",
       "      <td>1</td>\n",
       "      <td>1</td>\n",
       "      <td>1</td>\n",
       "      <td>1</td>\n",
       "      <td>1</td>\n",
       "      <td>1</td>\n",
       "      <td>1</td>\n",
       "      <td>1</td>\n",
       "      <td>9</td>\n",
       "      <td>1</td>\n",
       "    </tr>\n",
       "    <tr>\n",
       "      <th>1052</th>\n",
       "      <td>1</td>\n",
       "      <td>0</td>\n",
       "      <td>0</td>\n",
       "      <td>0</td>\n",
       "      <td>0</td>\n",
       "      <td>0</td>\n",
       "      <td>0</td>\n",
       "      <td>1</td>\n",
       "      <td>0</td>\n",
       "      <td>1</td>\n",
       "      <td>3</td>\n",
       "      <td>1</td>\n",
       "    </tr>\n",
       "    <tr>\n",
       "      <th>1053</th>\n",
       "      <td>1</td>\n",
       "      <td>1</td>\n",
       "      <td>0</td>\n",
       "      <td>0</td>\n",
       "      <td>1</td>\n",
       "      <td>1</td>\n",
       "      <td>0</td>\n",
       "      <td>1</td>\n",
       "      <td>1</td>\n",
       "      <td>0</td>\n",
       "      <td>6</td>\n",
       "      <td>1</td>\n",
       "    </tr>\n",
       "  </tbody>\n",
       "</table>\n",
       "<p>1054 rows × 12 columns</p>\n",
       "</div>"
      ],
      "text/plain": [
       "      A1  A2  A3  A4  A5  A6  A7  A8  A9  A10  Qchat-10-Score  Sex\n",
       "0      0   0   0   0   0   0   1   1   0    1               3    0\n",
       "1      1   1   0   0   0   1   1   0   0    0               4    1\n",
       "2      1   0   0   0   0   0   1   1   0    1               4    1\n",
       "3      1   1   1   1   1   1   1   1   1    1              10    1\n",
       "4      1   1   0   1   1   1   1   1   1    1               9    0\n",
       "...   ..  ..  ..  ..  ..  ..  ..  ..  ..  ...             ...  ...\n",
       "1049   0   0   0   0   0   0   0   0   0    1               1    0\n",
       "1050   0   0   1   1   1   0   1   0   1    0               5    1\n",
       "1051   1   0   1   1   1   1   1   1   1    1               9    1\n",
       "1052   1   0   0   0   0   0   0   1   0    1               3    1\n",
       "1053   1   1   0   0   1   1   0   1   1    0               6    1\n",
       "\n",
       "[1054 rows x 12 columns]"
      ]
     },
     "execution_count": 42,
     "metadata": {},
     "output_type": "execute_result"
    }
   ],
   "source": [
    "x\n",
    "# inputs features "
   ]
  },
  {
   "cell_type": "code",
   "execution_count": 43,
   "id": "febfb02b",
   "metadata": {
    "execution": {
     "iopub.execute_input": "2025-09-25T11:49:56.646834Z",
     "iopub.status.busy": "2025-09-25T11:49:56.646489Z",
     "iopub.status.idle": "2025-09-25T11:49:56.654274Z",
     "shell.execute_reply": "2025-09-25T11:49:56.652918Z"
    },
    "papermill": {
     "duration": 0.037975,
     "end_time": "2025-09-25T11:49:56.656002",
     "exception": false,
     "start_time": "2025-09-25T11:49:56.618027",
     "status": "completed"
    },
    "tags": []
   },
   "outputs": [
    {
     "data": {
      "text/plain": [
       "0       0\n",
       "1       1\n",
       "2       1\n",
       "3       1\n",
       "4       1\n",
       "       ..\n",
       "1049    0\n",
       "1050    1\n",
       "1051    1\n",
       "1052    0\n",
       "1053    1\n",
       "Name: Class/ASD Traits , Length: 1054, dtype: int64"
      ]
     },
     "execution_count": 43,
     "metadata": {},
     "output_type": "execute_result"
    }
   ],
   "source": [
    "y\n",
    "# output features "
   ]
  },
  {
   "cell_type": "code",
   "execution_count": 44,
   "id": "9bd84a6f",
   "metadata": {
    "execution": {
     "iopub.execute_input": "2025-09-25T11:49:56.711438Z",
     "iopub.status.busy": "2025-09-25T11:49:56.711131Z",
     "iopub.status.idle": "2025-09-25T11:49:57.057411Z",
     "shell.execute_reply": "2025-09-25T11:49:57.056294Z"
    },
    "papermill": {
     "duration": 0.375983,
     "end_time": "2025-09-25T11:49:57.059165",
     "exception": false,
     "start_time": "2025-09-25T11:49:56.683182",
     "status": "completed"
    },
    "tags": []
   },
   "outputs": [],
   "source": [
    "from sklearn.model_selection import train_test_split\n",
    "x_train , x_test , y_train , y_test = train_test_split(x, y , test_size = 0.1)"
   ]
  },
  {
   "cell_type": "code",
   "execution_count": 45,
   "id": "170abefe",
   "metadata": {
    "execution": {
     "iopub.execute_input": "2025-09-25T11:49:57.116598Z",
     "iopub.status.busy": "2025-09-25T11:49:57.116297Z",
     "iopub.status.idle": "2025-09-25T11:49:57.129776Z",
     "shell.execute_reply": "2025-09-25T11:49:57.128558Z"
    },
    "papermill": {
     "duration": 0.044802,
     "end_time": "2025-09-25T11:49:57.131595",
     "exception": false,
     "start_time": "2025-09-25T11:49:57.086793",
     "status": "completed"
    },
    "tags": []
   },
   "outputs": [
    {
     "data": {
      "text/html": [
       "<div>\n",
       "<style scoped>\n",
       "    .dataframe tbody tr th:only-of-type {\n",
       "        vertical-align: middle;\n",
       "    }\n",
       "\n",
       "    .dataframe tbody tr th {\n",
       "        vertical-align: top;\n",
       "    }\n",
       "\n",
       "    .dataframe thead th {\n",
       "        text-align: right;\n",
       "    }\n",
       "</style>\n",
       "<table border=\"1\" class=\"dataframe\">\n",
       "  <thead>\n",
       "    <tr style=\"text-align: right;\">\n",
       "      <th></th>\n",
       "      <th>A1</th>\n",
       "      <th>A2</th>\n",
       "      <th>A3</th>\n",
       "      <th>A4</th>\n",
       "      <th>A5</th>\n",
       "      <th>A6</th>\n",
       "      <th>A7</th>\n",
       "      <th>A8</th>\n",
       "      <th>A9</th>\n",
       "      <th>A10</th>\n",
       "      <th>Qchat-10-Score</th>\n",
       "      <th>Sex</th>\n",
       "    </tr>\n",
       "  </thead>\n",
       "  <tbody>\n",
       "    <tr>\n",
       "      <th>558</th>\n",
       "      <td>0</td>\n",
       "      <td>0</td>\n",
       "      <td>0</td>\n",
       "      <td>0</td>\n",
       "      <td>0</td>\n",
       "      <td>1</td>\n",
       "      <td>1</td>\n",
       "      <td>0</td>\n",
       "      <td>0</td>\n",
       "      <td>0</td>\n",
       "      <td>2</td>\n",
       "      <td>0</td>\n",
       "    </tr>\n",
       "    <tr>\n",
       "      <th>1014</th>\n",
       "      <td>1</td>\n",
       "      <td>0</td>\n",
       "      <td>0</td>\n",
       "      <td>0</td>\n",
       "      <td>0</td>\n",
       "      <td>1</td>\n",
       "      <td>1</td>\n",
       "      <td>1</td>\n",
       "      <td>1</td>\n",
       "      <td>0</td>\n",
       "      <td>5</td>\n",
       "      <td>0</td>\n",
       "    </tr>\n",
       "    <tr>\n",
       "      <th>535</th>\n",
       "      <td>0</td>\n",
       "      <td>0</td>\n",
       "      <td>0</td>\n",
       "      <td>0</td>\n",
       "      <td>0</td>\n",
       "      <td>0</td>\n",
       "      <td>0</td>\n",
       "      <td>1</td>\n",
       "      <td>0</td>\n",
       "      <td>0</td>\n",
       "      <td>1</td>\n",
       "      <td>1</td>\n",
       "    </tr>\n",
       "    <tr>\n",
       "      <th>219</th>\n",
       "      <td>0</td>\n",
       "      <td>1</td>\n",
       "      <td>1</td>\n",
       "      <td>1</td>\n",
       "      <td>1</td>\n",
       "      <td>1</td>\n",
       "      <td>1</td>\n",
       "      <td>1</td>\n",
       "      <td>0</td>\n",
       "      <td>1</td>\n",
       "      <td>8</td>\n",
       "      <td>1</td>\n",
       "    </tr>\n",
       "    <tr>\n",
       "      <th>250</th>\n",
       "      <td>1</td>\n",
       "      <td>1</td>\n",
       "      <td>0</td>\n",
       "      <td>1</td>\n",
       "      <td>1</td>\n",
       "      <td>1</td>\n",
       "      <td>1</td>\n",
       "      <td>1</td>\n",
       "      <td>1</td>\n",
       "      <td>1</td>\n",
       "      <td>9</td>\n",
       "      <td>1</td>\n",
       "    </tr>\n",
       "    <tr>\n",
       "      <th>...</th>\n",
       "      <td>...</td>\n",
       "      <td>...</td>\n",
       "      <td>...</td>\n",
       "      <td>...</td>\n",
       "      <td>...</td>\n",
       "      <td>...</td>\n",
       "      <td>...</td>\n",
       "      <td>...</td>\n",
       "      <td>...</td>\n",
       "      <td>...</td>\n",
       "      <td>...</td>\n",
       "      <td>...</td>\n",
       "    </tr>\n",
       "    <tr>\n",
       "      <th>744</th>\n",
       "      <td>1</td>\n",
       "      <td>1</td>\n",
       "      <td>1</td>\n",
       "      <td>1</td>\n",
       "      <td>1</td>\n",
       "      <td>1</td>\n",
       "      <td>1</td>\n",
       "      <td>0</td>\n",
       "      <td>1</td>\n",
       "      <td>1</td>\n",
       "      <td>9</td>\n",
       "      <td>1</td>\n",
       "    </tr>\n",
       "    <tr>\n",
       "      <th>1051</th>\n",
       "      <td>1</td>\n",
       "      <td>0</td>\n",
       "      <td>1</td>\n",
       "      <td>1</td>\n",
       "      <td>1</td>\n",
       "      <td>1</td>\n",
       "      <td>1</td>\n",
       "      <td>1</td>\n",
       "      <td>1</td>\n",
       "      <td>1</td>\n",
       "      <td>9</td>\n",
       "      <td>1</td>\n",
       "    </tr>\n",
       "    <tr>\n",
       "      <th>481</th>\n",
       "      <td>1</td>\n",
       "      <td>1</td>\n",
       "      <td>1</td>\n",
       "      <td>1</td>\n",
       "      <td>1</td>\n",
       "      <td>1</td>\n",
       "      <td>1</td>\n",
       "      <td>1</td>\n",
       "      <td>1</td>\n",
       "      <td>1</td>\n",
       "      <td>10</td>\n",
       "      <td>1</td>\n",
       "    </tr>\n",
       "    <tr>\n",
       "      <th>291</th>\n",
       "      <td>1</td>\n",
       "      <td>0</td>\n",
       "      <td>0</td>\n",
       "      <td>1</td>\n",
       "      <td>1</td>\n",
       "      <td>0</td>\n",
       "      <td>1</td>\n",
       "      <td>0</td>\n",
       "      <td>1</td>\n",
       "      <td>1</td>\n",
       "      <td>6</td>\n",
       "      <td>1</td>\n",
       "    </tr>\n",
       "    <tr>\n",
       "      <th>392</th>\n",
       "      <td>1</td>\n",
       "      <td>1</td>\n",
       "      <td>0</td>\n",
       "      <td>1</td>\n",
       "      <td>1</td>\n",
       "      <td>1</td>\n",
       "      <td>1</td>\n",
       "      <td>0</td>\n",
       "      <td>0</td>\n",
       "      <td>1</td>\n",
       "      <td>7</td>\n",
       "      <td>1</td>\n",
       "    </tr>\n",
       "  </tbody>\n",
       "</table>\n",
       "<p>106 rows × 12 columns</p>\n",
       "</div>"
      ],
      "text/plain": [
       "      A1  A2  A3  A4  A5  A6  A7  A8  A9  A10  Qchat-10-Score  Sex\n",
       "558    0   0   0   0   0   1   1   0   0    0               2    0\n",
       "1014   1   0   0   0   0   1   1   1   1    0               5    0\n",
       "535    0   0   0   0   0   0   0   1   0    0               1    1\n",
       "219    0   1   1   1   1   1   1   1   0    1               8    1\n",
       "250    1   1   0   1   1   1   1   1   1    1               9    1\n",
       "...   ..  ..  ..  ..  ..  ..  ..  ..  ..  ...             ...  ...\n",
       "744    1   1   1   1   1   1   1   0   1    1               9    1\n",
       "1051   1   0   1   1   1   1   1   1   1    1               9    1\n",
       "481    1   1   1   1   1   1   1   1   1    1              10    1\n",
       "291    1   0   0   1   1   0   1   0   1    1               6    1\n",
       "392    1   1   0   1   1   1   1   0   0    1               7    1\n",
       "\n",
       "[106 rows x 12 columns]"
      ]
     },
     "execution_count": 45,
     "metadata": {},
     "output_type": "execute_result"
    }
   ],
   "source": [
    "x_test\n",
    "# selected 20 percent rows  from inputs to \n",
    "# predict futher"
   ]
  },
  {
   "cell_type": "code",
   "execution_count": 46,
   "id": "5ea79925",
   "metadata": {
    "execution": {
     "iopub.execute_input": "2025-09-25T11:49:57.188256Z",
     "iopub.status.busy": "2025-09-25T11:49:57.187940Z",
     "iopub.status.idle": "2025-09-25T11:49:57.194452Z",
     "shell.execute_reply": "2025-09-25T11:49:57.193760Z"
    },
    "papermill": {
     "duration": 0.036652,
     "end_time": "2025-09-25T11:49:57.195967",
     "exception": false,
     "start_time": "2025-09-25T11:49:57.159315",
     "status": "completed"
    },
    "tags": []
   },
   "outputs": [
    {
     "data": {
      "text/plain": [
       "558     0\n",
       "1014    1\n",
       "535     0\n",
       "219     1\n",
       "250     1\n",
       "       ..\n",
       "744     1\n",
       "1051    1\n",
       "481     1\n",
       "291     1\n",
       "392     1\n",
       "Name: Class/ASD Traits , Length: 106, dtype: int64"
      ]
     },
     "execution_count": 46,
     "metadata": {},
     "output_type": "execute_result"
    }
   ],
   "source": [
    "y_test\n",
    "# selected 20 percent rows  from outputs to \n",
    "# predict futher ..."
   ]
  },
  {
   "cell_type": "markdown",
   "id": "a0a2a113",
   "metadata": {
    "papermill": {
     "duration": 0.02832,
     "end_time": "2025-09-25T11:49:57.252952",
     "exception": false,
     "start_time": "2025-09-25T11:49:57.224632",
     "status": "completed"
    },
    "tags": []
   },
   "source": [
    "**Scaling  part  started**"
   ]
  },
  {
   "cell_type": "code",
   "execution_count": 47,
   "id": "1763788f",
   "metadata": {
    "execution": {
     "iopub.execute_input": "2025-09-25T11:49:57.311322Z",
     "iopub.status.busy": "2025-09-25T11:49:57.310938Z",
     "iopub.status.idle": "2025-09-25T11:49:57.316001Z",
     "shell.execute_reply": "2025-09-25T11:49:57.315081Z"
    },
    "papermill": {
     "duration": 0.036424,
     "end_time": "2025-09-25T11:49:57.317450",
     "exception": false,
     "start_time": "2025-09-25T11:49:57.281026",
     "status": "completed"
    },
    "tags": []
   },
   "outputs": [],
   "source": [
    "from sklearn.preprocessing import StandardScaler"
   ]
  },
  {
   "cell_type": "code",
   "execution_count": 48,
   "id": "3713fb58",
   "metadata": {
    "execution": {
     "iopub.execute_input": "2025-09-25T11:49:57.375439Z",
     "iopub.status.busy": "2025-09-25T11:49:57.375120Z",
     "iopub.status.idle": "2025-09-25T11:49:57.379640Z",
     "shell.execute_reply": "2025-09-25T11:49:57.378658Z"
    },
    "papermill": {
     "duration": 0.035496,
     "end_time": "2025-09-25T11:49:57.381385",
     "exception": false,
     "start_time": "2025-09-25T11:49:57.345889",
     "status": "completed"
    },
    "tags": []
   },
   "outputs": [],
   "source": [
    "scaler = StandardScaler()\n"
   ]
  },
  {
   "cell_type": "markdown",
   "id": "9bf71a64",
   "metadata": {
    "papermill": {
     "duration": 0.027193,
     "end_time": "2025-09-25T11:49:57.436033",
     "exception": false,
     "start_time": "2025-09-25T11:49:57.408840",
     "status": "completed"
    },
    "tags": []
   },
   "source": [
    "**Since only questions _ score part is dominating\n",
    "others are in binary.. so we will do scaling\n",
    "only of question score parts**"
   ]
  },
  {
   "cell_type": "code",
   "execution_count": 49,
   "id": "f3a428fe",
   "metadata": {
    "execution": {
     "iopub.execute_input": "2025-09-25T11:49:57.494291Z",
     "iopub.status.busy": "2025-09-25T11:49:57.493930Z",
     "iopub.status.idle": "2025-09-25T11:49:57.502785Z",
     "shell.execute_reply": "2025-09-25T11:49:57.501839Z"
    },
    "papermill": {
     "duration": 0.040204,
     "end_time": "2025-09-25T11:49:57.504789",
     "exception": false,
     "start_time": "2025-09-25T11:49:57.464585",
     "status": "completed"
    },
    "tags": []
   },
   "outputs": [],
   "source": [
    "x_train_scaled = scaler.fit_transform(x_train[[\"Qchat-10-Score\"]])"
   ]
  },
  {
   "cell_type": "code",
   "execution_count": 50,
   "id": "ee049664",
   "metadata": {
    "execution": {
     "iopub.execute_input": "2025-09-25T11:49:57.566831Z",
     "iopub.status.busy": "2025-09-25T11:49:57.566407Z",
     "iopub.status.idle": "2025-09-25T11:49:57.573600Z",
     "shell.execute_reply": "2025-09-25T11:49:57.572491Z"
    },
    "papermill": {
     "duration": 0.042296,
     "end_time": "2025-09-25T11:49:57.576033",
     "exception": false,
     "start_time": "2025-09-25T11:49:57.533737",
     "status": "completed"
    },
    "tags": []
   },
   "outputs": [
    {
     "data": {
      "text/plain": [
       "(948, 12)"
      ]
     },
     "execution_count": 50,
     "metadata": {},
     "output_type": "execute_result"
    }
   ],
   "source": [
    "x_train.shape"
   ]
  },
  {
   "cell_type": "code",
   "execution_count": 51,
   "id": "e2459731",
   "metadata": {
    "execution": {
     "iopub.execute_input": "2025-09-25T11:49:57.637334Z",
     "iopub.status.busy": "2025-09-25T11:49:57.636896Z",
     "iopub.status.idle": "2025-09-25T11:49:57.642954Z",
     "shell.execute_reply": "2025-09-25T11:49:57.641898Z"
    },
    "papermill": {
     "duration": 0.036691,
     "end_time": "2025-09-25T11:49:57.644590",
     "exception": false,
     "start_time": "2025-09-25T11:49:57.607899",
     "status": "completed"
    },
    "tags": []
   },
   "outputs": [],
   "source": [
    "import pandas as pd\n",
    "\n",
    "x_train_scaled_v = pd.DataFrame(\n",
    "    x_train_scaled,               # numpy array\n",
    "    columns=[\"Qchat-10-Score\"],   # column name\n",
    "    index=x_train.index           # same index as original DataFrame\n",
    ")\n"
   ]
  },
  {
   "cell_type": "code",
   "execution_count": 52,
   "id": "5a5920d1",
   "metadata": {
    "execution": {
     "iopub.execute_input": "2025-09-25T11:49:57.707471Z",
     "iopub.status.busy": "2025-09-25T11:49:57.707133Z",
     "iopub.status.idle": "2025-09-25T11:49:57.713338Z",
     "shell.execute_reply": "2025-09-25T11:49:57.712212Z"
    },
    "papermill": {
     "duration": 0.040312,
     "end_time": "2025-09-25T11:49:57.715206",
     "exception": false,
     "start_time": "2025-09-25T11:49:57.674894",
     "status": "completed"
    },
    "tags": []
   },
   "outputs": [],
   "source": [
    "x_train_binary = x_train.drop(columns=[\"Qchat-10-Score\"])\n"
   ]
  },
  {
   "cell_type": "code",
   "execution_count": 53,
   "id": "ddbb607f",
   "metadata": {
    "execution": {
     "iopub.execute_input": "2025-09-25T11:49:57.774674Z",
     "iopub.status.busy": "2025-09-25T11:49:57.774326Z",
     "iopub.status.idle": "2025-09-25T11:49:57.784741Z",
     "shell.execute_reply": "2025-09-25T11:49:57.783338Z"
    },
    "papermill": {
     "duration": 0.042243,
     "end_time": "2025-09-25T11:49:57.786561",
     "exception": false,
     "start_time": "2025-09-25T11:49:57.744318",
     "status": "completed"
    },
    "tags": []
   },
   "outputs": [
    {
     "name": "stdout",
     "output_type": "stream",
     "text": [
      "      A1  A2  A3  A4  A5  A6  A7  A8  A9  A10  Sex  Qchat-10-Score\n",
      "974    1   0   0   0   0   0   1   1   1    1    1       -0.070961\n",
      "816    1   0   0   0   1   0   1   1   1    0    1       -0.070961\n",
      "929    0   0   1   1   1   0   0   0   1    0    1       -0.414183\n",
      "1031   1   1   0   0   0   1   1   1   0    1    0        0.272260\n",
      "379    1   0   0   0   0   0   1   0   0    1    0       -0.757404\n"
     ]
    }
   ],
   "source": [
    "x_train_final = pd.concat([x_train_binary, x_train_scaled_v], axis=1)\n",
    "\n",
    "print(x_train_final.head())\n",
    "\n",
    "# now finally we  succesfully scaled our score columns\n",
    "# dropped original score column \n",
    "# and again included scaled score colum in our datsets"
   ]
  },
  {
   "cell_type": "markdown",
   "id": "d26b8cac",
   "metadata": {
    "papermill": {
     "duration": 0.027548,
     "end_time": "2025-09-25T11:49:57.842118",
     "exception": false,
     "start_time": "2025-09-25T11:49:57.814570",
     "status": "completed"
    },
    "tags": []
   },
   "source": [
    "**scaling x_test data**"
   ]
  },
  {
   "cell_type": "code",
   "execution_count": 54,
   "id": "f5304504",
   "metadata": {
    "execution": {
     "iopub.execute_input": "2025-09-25T11:49:57.901760Z",
     "iopub.status.busy": "2025-09-25T11:49:57.901410Z",
     "iopub.status.idle": "2025-09-25T11:49:57.908677Z",
     "shell.execute_reply": "2025-09-25T11:49:57.907489Z"
    },
    "papermill": {
     "duration": 0.039483,
     "end_time": "2025-09-25T11:49:57.910628",
     "exception": false,
     "start_time": "2025-09-25T11:49:57.871145",
     "status": "completed"
    },
    "tags": []
   },
   "outputs": [],
   "source": [
    "x_test_scaled = scaler.transform(x_test[[\"Qchat-10-Score\"]])"
   ]
  },
  {
   "cell_type": "code",
   "execution_count": 55,
   "id": "f278fd4b",
   "metadata": {
    "execution": {
     "iopub.execute_input": "2025-09-25T11:49:57.967723Z",
     "iopub.status.busy": "2025-09-25T11:49:57.967363Z",
     "iopub.status.idle": "2025-09-25T11:49:57.973791Z",
     "shell.execute_reply": "2025-09-25T11:49:57.972586Z"
    },
    "papermill": {
     "duration": 0.037543,
     "end_time": "2025-09-25T11:49:57.975849",
     "exception": false,
     "start_time": "2025-09-25T11:49:57.938306",
     "status": "completed"
    },
    "tags": []
   },
   "outputs": [
    {
     "data": {
      "text/plain": [
       "(106, 1)"
      ]
     },
     "execution_count": 55,
     "metadata": {},
     "output_type": "execute_result"
    }
   ],
   "source": [
    "x_test_scaled.shape"
   ]
  },
  {
   "cell_type": "code",
   "execution_count": 56,
   "id": "17a02339",
   "metadata": {
    "execution": {
     "iopub.execute_input": "2025-09-25T11:49:58.034159Z",
     "iopub.status.busy": "2025-09-25T11:49:58.033760Z",
     "iopub.status.idle": "2025-09-25T11:49:58.038159Z",
     "shell.execute_reply": "2025-09-25T11:49:58.037142Z"
    },
    "papermill": {
     "duration": 0.035623,
     "end_time": "2025-09-25T11:49:58.040135",
     "exception": false,
     "start_time": "2025-09-25T11:49:58.004512",
     "status": "completed"
    },
    "tags": []
   },
   "outputs": [],
   "source": [
    "#   here we are converting numpy array into dataframe ."
   ]
  },
  {
   "cell_type": "code",
   "execution_count": 57,
   "id": "12c74082",
   "metadata": {
    "execution": {
     "iopub.execute_input": "2025-09-25T11:49:58.098828Z",
     "iopub.status.busy": "2025-09-25T11:49:58.098417Z",
     "iopub.status.idle": "2025-09-25T11:49:58.103786Z",
     "shell.execute_reply": "2025-09-25T11:49:58.102598Z"
    },
    "papermill": {
     "duration": 0.03713,
     "end_time": "2025-09-25T11:49:58.105529",
     "exception": false,
     "start_time": "2025-09-25T11:49:58.068399",
     "status": "completed"
    },
    "tags": []
   },
   "outputs": [],
   "source": [
    "x_test_scaled_v = pd.DataFrame(\n",
    "    x_test_scaled,               # numpy array\n",
    "    columns=[\"Qchat-10-Score\"],   # column name\n",
    "    index=x_test.index           # same index as original DataFrame\n",
    ")\n"
   ]
  },
  {
   "cell_type": "code",
   "execution_count": 58,
   "id": "7b7f1414",
   "metadata": {
    "execution": {
     "iopub.execute_input": "2025-09-25T11:49:58.164582Z",
     "iopub.status.busy": "2025-09-25T11:49:58.164187Z",
     "iopub.status.idle": "2025-09-25T11:49:58.169555Z",
     "shell.execute_reply": "2025-09-25T11:49:58.168529Z"
    },
    "papermill": {
     "duration": 0.037258,
     "end_time": "2025-09-25T11:49:58.171103",
     "exception": false,
     "start_time": "2025-09-25T11:49:58.133845",
     "status": "completed"
    },
    "tags": []
   },
   "outputs": [],
   "source": [
    "# here we are dropping  original question score\n",
    "# from the dataframe .\n",
    "\n",
    "x_test_binary = x_test.drop(columns=[\"Qchat-10-Score\"])"
   ]
  },
  {
   "cell_type": "code",
   "execution_count": 59,
   "id": "475d638c",
   "metadata": {
    "execution": {
     "iopub.execute_input": "2025-09-25T11:49:58.229413Z",
     "iopub.status.busy": "2025-09-25T11:49:58.229061Z",
     "iopub.status.idle": "2025-09-25T11:49:58.240050Z",
     "shell.execute_reply": "2025-09-25T11:49:58.238919Z"
    },
    "papermill": {
     "duration": 0.042512,
     "end_time": "2025-09-25T11:49:58.241819",
     "exception": false,
     "start_time": "2025-09-25T11:49:58.199307",
     "status": "completed"
    },
    "tags": []
   },
   "outputs": [
    {
     "name": "stdout",
     "output_type": "stream",
     "text": [
      "      A1  A2  A3  A4  A5  A6  A7  A8  A9  A10  Sex  Qchat-10-Score\n",
      "558    0   0   0   0   0   1   1   0   0    0    0       -1.100625\n",
      "1014   1   0   0   0   0   1   1   1   1    0    0       -0.070961\n",
      "535    0   0   0   0   0   0   0   1   0    0    1       -1.443847\n",
      "219    0   1   1   1   1   1   1   1   0    1    1        0.958703\n",
      "250    1   1   0   1   1   1   1   1   1    1    1        1.301924\n"
     ]
    }
   ],
   "source": [
    "# here we are concatting scaled and original dataframe.\n",
    "x_test_final = pd.concat([x_test_binary, x_test_scaled_v], axis=1)\n",
    "\n",
    "print(x_test_final.head()) "
   ]
  },
  {
   "cell_type": "markdown",
   "id": "1b6f622c",
   "metadata": {
    "papermill": {
     "duration": 0.02788,
     "end_time": "2025-09-25T11:49:58.297865",
     "exception": false,
     "start_time": "2025-09-25T11:49:58.269985",
     "status": "completed"
    },
    "tags": []
   },
   "source": [
    "# Model training part has started by Logistic regression"
   ]
  },
  {
   "cell_type": "markdown",
   "id": "59416b26",
   "metadata": {
    "papermill": {
     "duration": 0.047781,
     "end_time": "2025-09-25T11:49:58.378528",
     "exception": false,
     "start_time": "2025-09-25T11:49:58.330747",
     "status": "completed"
    },
    "tags": []
   },
   "source": [
    "**Training  part  has started from here**"
   ]
  },
  {
   "cell_type": "code",
   "execution_count": 60,
   "id": "8f880d62",
   "metadata": {
    "execution": {
     "iopub.execute_input": "2025-09-25T11:49:58.437041Z",
     "iopub.status.busy": "2025-09-25T11:49:58.436675Z",
     "iopub.status.idle": "2025-09-25T11:49:58.564008Z",
     "shell.execute_reply": "2025-09-25T11:49:58.562775Z"
    },
    "papermill": {
     "duration": 0.158231,
     "end_time": "2025-09-25T11:49:58.565714",
     "exception": false,
     "start_time": "2025-09-25T11:49:58.407483",
     "status": "completed"
    },
    "tags": []
   },
   "outputs": [],
   "source": [
    "from sklearn.linear_model import LogisticRegression\n",
    "clf = LogisticRegression()"
   ]
  },
  {
   "cell_type": "code",
   "execution_count": 61,
   "id": "f34f4435",
   "metadata": {
    "execution": {
     "iopub.execute_input": "2025-09-25T11:49:58.625079Z",
     "iopub.status.busy": "2025-09-25T11:49:58.624729Z",
     "iopub.status.idle": "2025-09-25T11:49:58.735512Z",
     "shell.execute_reply": "2025-09-25T11:49:58.733098Z"
    },
    "papermill": {
     "duration": 0.142578,
     "end_time": "2025-09-25T11:49:58.737488",
     "exception": false,
     "start_time": "2025-09-25T11:49:58.594910",
     "status": "completed"
    },
    "tags": []
   },
   "outputs": [
    {
     "data": {
      "text/html": [
       "<style>#sk-container-id-1 {color: black;background-color: white;}#sk-container-id-1 pre{padding: 0;}#sk-container-id-1 div.sk-toggleable {background-color: white;}#sk-container-id-1 label.sk-toggleable__label {cursor: pointer;display: block;width: 100%;margin-bottom: 0;padding: 0.3em;box-sizing: border-box;text-align: center;}#sk-container-id-1 label.sk-toggleable__label-arrow:before {content: \"▸\";float: left;margin-right: 0.25em;color: #696969;}#sk-container-id-1 label.sk-toggleable__label-arrow:hover:before {color: black;}#sk-container-id-1 div.sk-estimator:hover label.sk-toggleable__label-arrow:before {color: black;}#sk-container-id-1 div.sk-toggleable__content {max-height: 0;max-width: 0;overflow: hidden;text-align: left;background-color: #f0f8ff;}#sk-container-id-1 div.sk-toggleable__content pre {margin: 0.2em;color: black;border-radius: 0.25em;background-color: #f0f8ff;}#sk-container-id-1 input.sk-toggleable__control:checked~div.sk-toggleable__content {max-height: 200px;max-width: 100%;overflow: auto;}#sk-container-id-1 input.sk-toggleable__control:checked~label.sk-toggleable__label-arrow:before {content: \"▾\";}#sk-container-id-1 div.sk-estimator input.sk-toggleable__control:checked~label.sk-toggleable__label {background-color: #d4ebff;}#sk-container-id-1 div.sk-label input.sk-toggleable__control:checked~label.sk-toggleable__label {background-color: #d4ebff;}#sk-container-id-1 input.sk-hidden--visually {border: 0;clip: rect(1px 1px 1px 1px);clip: rect(1px, 1px, 1px, 1px);height: 1px;margin: -1px;overflow: hidden;padding: 0;position: absolute;width: 1px;}#sk-container-id-1 div.sk-estimator {font-family: monospace;background-color: #f0f8ff;border: 1px dotted black;border-radius: 0.25em;box-sizing: border-box;margin-bottom: 0.5em;}#sk-container-id-1 div.sk-estimator:hover {background-color: #d4ebff;}#sk-container-id-1 div.sk-parallel-item::after {content: \"\";width: 100%;border-bottom: 1px solid gray;flex-grow: 1;}#sk-container-id-1 div.sk-label:hover label.sk-toggleable__label {background-color: #d4ebff;}#sk-container-id-1 div.sk-serial::before {content: \"\";position: absolute;border-left: 1px solid gray;box-sizing: border-box;top: 0;bottom: 0;left: 50%;z-index: 0;}#sk-container-id-1 div.sk-serial {display: flex;flex-direction: column;align-items: center;background-color: white;padding-right: 0.2em;padding-left: 0.2em;position: relative;}#sk-container-id-1 div.sk-item {position: relative;z-index: 1;}#sk-container-id-1 div.sk-parallel {display: flex;align-items: stretch;justify-content: center;background-color: white;position: relative;}#sk-container-id-1 div.sk-item::before, #sk-container-id-1 div.sk-parallel-item::before {content: \"\";position: absolute;border-left: 1px solid gray;box-sizing: border-box;top: 0;bottom: 0;left: 50%;z-index: -1;}#sk-container-id-1 div.sk-parallel-item {display: flex;flex-direction: column;z-index: 1;position: relative;background-color: white;}#sk-container-id-1 div.sk-parallel-item:first-child::after {align-self: flex-end;width: 50%;}#sk-container-id-1 div.sk-parallel-item:last-child::after {align-self: flex-start;width: 50%;}#sk-container-id-1 div.sk-parallel-item:only-child::after {width: 0;}#sk-container-id-1 div.sk-dashed-wrapped {border: 1px dashed gray;margin: 0 0.4em 0.5em 0.4em;box-sizing: border-box;padding-bottom: 0.4em;background-color: white;}#sk-container-id-1 div.sk-label label {font-family: monospace;font-weight: bold;display: inline-block;line-height: 1.2em;}#sk-container-id-1 div.sk-label-container {text-align: center;}#sk-container-id-1 div.sk-container {/* jupyter's `normalize.less` sets `[hidden] { display: none; }` but bootstrap.min.css set `[hidden] { display: none !important; }` so we also need the `!important` here to be able to override the default hidden behavior on the sphinx rendered scikit-learn.org. See: https://github.com/scikit-learn/scikit-learn/issues/21755 */display: inline-block !important;position: relative;}#sk-container-id-1 div.sk-text-repr-fallback {display: none;}</style><div id=\"sk-container-id-1\" class=\"sk-top-container\"><div class=\"sk-text-repr-fallback\"><pre>LogisticRegression()</pre><b>In a Jupyter environment, please rerun this cell to show the HTML representation or trust the notebook. <br />On GitHub, the HTML representation is unable to render, please try loading this page with nbviewer.org.</b></div><div class=\"sk-container\" hidden><div class=\"sk-item\"><div class=\"sk-estimator sk-toggleable\"><input class=\"sk-toggleable__control sk-hidden--visually\" id=\"sk-estimator-id-1\" type=\"checkbox\" checked><label for=\"sk-estimator-id-1\" class=\"sk-toggleable__label sk-toggleable__label-arrow\">LogisticRegression</label><div class=\"sk-toggleable__content\"><pre>LogisticRegression()</pre></div></div></div></div></div>"
      ],
      "text/plain": [
       "LogisticRegression()"
      ]
     },
     "execution_count": 61,
     "metadata": {},
     "output_type": "execute_result"
    }
   ],
   "source": [
    "# model training \n",
    "clf.fit(x_train_final , y_train)"
   ]
  },
  {
   "cell_type": "code",
   "execution_count": 62,
   "id": "05c20a97",
   "metadata": {
    "execution": {
     "iopub.execute_input": "2025-09-25T11:49:58.833041Z",
     "iopub.status.busy": "2025-09-25T11:49:58.832638Z",
     "iopub.status.idle": "2025-09-25T11:49:58.840341Z",
     "shell.execute_reply": "2025-09-25T11:49:58.839254Z"
    },
    "papermill": {
     "duration": 0.057562,
     "end_time": "2025-09-25T11:49:58.841924",
     "exception": false,
     "start_time": "2025-09-25T11:49:58.784362",
     "status": "completed"
    },
    "tags": []
   },
   "outputs": [],
   "source": [
    "y_pred = clf.predict(x_test_final)"
   ]
  },
  {
   "cell_type": "code",
   "execution_count": 63,
   "id": "5d7b841c",
   "metadata": {
    "execution": {
     "iopub.execute_input": "2025-09-25T11:49:58.902829Z",
     "iopub.status.busy": "2025-09-25T11:49:58.902442Z",
     "iopub.status.idle": "2025-09-25T11:49:58.910114Z",
     "shell.execute_reply": "2025-09-25T11:49:58.909159Z"
    },
    "papermill": {
     "duration": 0.039365,
     "end_time": "2025-09-25T11:49:58.911731",
     "exception": false,
     "start_time": "2025-09-25T11:49:58.872366",
     "status": "completed"
    },
    "tags": []
   },
   "outputs": [
    {
     "data": {
      "text/plain": [
       "558     0\n",
       "1014    1\n",
       "535     0\n",
       "219     1\n",
       "250     1\n",
       "       ..\n",
       "744     1\n",
       "1051    1\n",
       "481     1\n",
       "291     1\n",
       "392     1\n",
       "Name: Class/ASD Traits , Length: 106, dtype: int64"
      ]
     },
     "execution_count": 63,
     "metadata": {},
     "output_type": "execute_result"
    }
   ],
   "source": [
    "y_test"
   ]
  },
  {
   "cell_type": "code",
   "execution_count": 64,
   "id": "51af2ccb",
   "metadata": {
    "execution": {
     "iopub.execute_input": "2025-09-25T11:49:58.975270Z",
     "iopub.status.busy": "2025-09-25T11:49:58.974903Z",
     "iopub.status.idle": "2025-09-25T11:49:58.979729Z",
     "shell.execute_reply": "2025-09-25T11:49:58.978742Z"
    },
    "papermill": {
     "duration": 0.040497,
     "end_time": "2025-09-25T11:49:58.981532",
     "exception": false,
     "start_time": "2025-09-25T11:49:58.941035",
     "status": "completed"
    },
    "tags": []
   },
   "outputs": [],
   "source": [
    "from sklearn.metrics import accuracy_score"
   ]
  },
  {
   "cell_type": "markdown",
   "id": "82509705",
   "metadata": {
    "papermill": {
     "duration": 0.028329,
     "end_time": "2025-09-25T11:49:59.038958",
     "exception": false,
     "start_time": "2025-09-25T11:49:59.010629",
     "status": "completed"
    },
    "tags": []
   },
   "source": [
    "# Got accuracy of 100 perecnt "
   ]
  },
  {
   "cell_type": "code",
   "execution_count": 65,
   "id": "5c91ee14",
   "metadata": {
    "execution": {
     "iopub.execute_input": "2025-09-25T11:49:59.097774Z",
     "iopub.status.busy": "2025-09-25T11:49:59.097421Z",
     "iopub.status.idle": "2025-09-25T11:49:59.106204Z",
     "shell.execute_reply": "2025-09-25T11:49:59.105160Z"
    },
    "papermill": {
     "duration": 0.040605,
     "end_time": "2025-09-25T11:49:59.108165",
     "exception": false,
     "start_time": "2025-09-25T11:49:59.067560",
     "status": "completed"
    },
    "tags": []
   },
   "outputs": [
    {
     "data": {
      "text/plain": [
       "100.0"
      ]
     },
     "execution_count": 65,
     "metadata": {},
     "output_type": "execute_result"
    }
   ],
   "source": [
    "accuracy_score(y_test , y_pred)*100"
   ]
  },
  {
   "cell_type": "code",
   "execution_count": 66,
   "id": "d747c43d",
   "metadata": {
    "execution": {
     "iopub.execute_input": "2025-09-25T11:49:59.167217Z",
     "iopub.status.busy": "2025-09-25T11:49:59.166878Z",
     "iopub.status.idle": "2025-09-25T11:49:59.817811Z",
     "shell.execute_reply": "2025-09-25T11:49:59.816368Z"
    },
    "papermill": {
     "duration": 0.682476,
     "end_time": "2025-09-25T11:49:59.819632",
     "exception": false,
     "start_time": "2025-09-25T11:49:59.137156",
     "status": "completed"
    },
    "tags": []
   },
   "outputs": [
    {
     "name": "stdout",
     "output_type": "stream",
     "text": [
      "Random Forest Accuracy: 1.0\n"
     ]
    }
   ],
   "source": [
    "from sklearn.ensemble import RandomForestClassifier\n",
    "\n",
    "rf = RandomForestClassifier(random_state=42)\n",
    "rf.fit(x_train_final, y_train)\n",
    "\n",
    "y_pred_rf = rf.predict(x_test_final)\n",
    "\n",
    "print(\"Random Forest Accuracy:\", accuracy_score(y_test, y_pred_rf))\n",
    "\n"
   ]
  },
  {
   "cell_type": "code",
   "execution_count": 67,
   "id": "792ddfe9",
   "metadata": {
    "execution": {
     "iopub.execute_input": "2025-09-25T11:49:59.880898Z",
     "iopub.status.busy": "2025-09-25T11:49:59.880521Z",
     "iopub.status.idle": "2025-09-25T11:50:00.683512Z",
     "shell.execute_reply": "2025-09-25T11:50:00.682121Z"
    },
    "papermill": {
     "duration": 0.836185,
     "end_time": "2025-09-25T11:50:00.685494",
     "exception": false,
     "start_time": "2025-09-25T11:49:59.849309",
     "status": "completed"
    },
    "tags": []
   },
   "outputs": [
    {
     "name": "stdout",
     "output_type": "stream",
     "text": [
      "Cross-validation accuracy mean: 1.0\n",
      "All fold scores: [1. 1. 1. 1. 1.]\n"
     ]
    }
   ],
   "source": [
    "from sklearn.model_selection import cross_val_score\n",
    "import numpy as np\n",
    "\n",
    "scores = cross_val_score(rf, x_train_final, y_train, cv=5)\n",
    "print(\"Cross-validation accuracy mean:\", np.mean(scores))\n",
    "print(\"All fold scores:\", scores)\n"
   ]
  }
 ],
 "metadata": {
  "kaggle": {
   "accelerator": "none",
   "dataSources": [
    {
     "datasetId": 38367,
     "sourceId": 10841523,
     "sourceType": "datasetVersion"
    }
   ],
   "dockerImageVersionId": 31089,
   "isGpuEnabled": false,
   "isInternetEnabled": true,
   "language": "python",
   "sourceType": "notebook"
  },
  "kernelspec": {
   "display_name": "Python 3",
   "language": "python",
   "name": "python3"
  },
  "language_info": {
   "codemirror_mode": {
    "name": "ipython",
    "version": 3
   },
   "file_extension": ".py",
   "mimetype": "text/x-python",
   "name": "python",
   "nbconvert_exporter": "python",
   "pygments_lexer": "ipython3",
   "version": "3.11.13"
  },
  "papermill": {
   "default_parameters": {},
   "duration": 21.586459,
   "end_time": "2025-09-25T11:50:01.536287",
   "environment_variables": {},
   "exception": null,
   "input_path": "__notebook__.ipynb",
   "output_path": "__notebook__.ipynb",
   "parameters": {},
   "start_time": "2025-09-25T11:49:39.949828",
   "version": "2.6.0"
  }
 },
 "nbformat": 4,
 "nbformat_minor": 5
}
